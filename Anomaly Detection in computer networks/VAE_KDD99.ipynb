{
  "nbformat": 4,
  "nbformat_minor": 0,
  "metadata": {
    "colab": {
      "name": "VAE_KDD99.ipynb",
      "provenance": [],
      "collapsed_sections": []
    },
    "kernelspec": {
      "name": "python3",
      "display_name": "Python 3"
    },
    "language_info": {
      "name": "python"
    }
  },
  "cells": [
    {
      "cell_type": "code",
      "metadata": {
        "id": "UWiMCmW8qYU1"
      },
      "source": [
        "!pip install alibi-detect"
      ],
      "execution_count": null,
      "outputs": []
    },
    {
      "cell_type": "code",
      "metadata": {
        "id": "pQ6nshLSqfXR"
      },
      "source": [
        "import logging\n",
        "import matplotlib.pyplot as plt\n",
        "%matplotlib inline\n",
        "import numpy as np\n",
        "import pandas as pd\n",
        "import seaborn as sns\n",
        "from sklearn.metrics import confusion_matrix, f1_score\n",
        "import tensorflow as tf\n",
        "tf.keras.backend.clear_session()\n",
        "from tensorflow.keras.layers import Dense, InputLayer\n",
        "\n",
        "from alibi_detect.datasets import fetch_kdd\n",
        "from alibi_detect.models.tensorflow.losses import elbo\n",
        "from alibi_detect.od import OutlierVAE\n",
        "from alibi_detect.utils.data import create_outlier_batch\n",
        "from alibi_detect.utils.fetching import fetch_detector\n",
        "from alibi_detect.utils.saving import save_detector, load_detector\n",
        "from alibi_detect.utils.visualize import plot_instance_score, plot_feature_outlier_tabular, plot_roc\n",
        "\n",
        "logger = tf.get_logger()\n",
        "logger.setLevel(logging.ERROR)"
      ],
      "execution_count": null,
      "outputs": []
    },
    {
      "cell_type": "code",
      "metadata": {
        "id": "EKmSqwb360ZZ"
      },
      "source": [
        "import os"
      ],
      "execution_count": null,
      "outputs": []
    },
    {
      "cell_type": "code",
      "metadata": {
        "colab": {
          "base_uri": "https://localhost:8080/"
        },
        "id": "WzrDb2sWuVF-",
        "outputId": "97dbb30e-ed6c-4d34-d656-785626c7a41c"
      },
      "source": [
        "kddcup = fetch_kdd(percent10=True)  # only load 10% of the dataset\n",
        "print(kddcup.data.shape, kddcup.target.shape)"
      ],
      "execution_count": null,
      "outputs": [
        {
          "output_type": "stream",
          "text": [
            "Downloading https://ndownloader.figshare.com/files/5976042\n"
          ],
          "name": "stderr"
        },
        {
          "output_type": "stream",
          "text": [
            "(494021, 18) (494021,)\n"
          ],
          "name": "stdout"
        }
      ]
    },
    {
      "cell_type": "code",
      "metadata": {
        "colab": {
          "base_uri": "https://localhost:8080/"
        },
        "id": "Jmy5M2wqusQZ",
        "outputId": "e1218fa7-cbd6-4924-f02b-611a225e473c"
      },
      "source": [
        "np.random.seed(0)\n",
        "normal_batch = create_outlier_batch(kddcup.data, kddcup.target, n_samples=400000, perc_outlier=0)\n",
        "X_train, y_train = normal_batch.data.astype('float'), normal_batch.target\n",
        "print(X_train.shape, y_train.shape)\n",
        "print('{}% outliers'.format(100 * y_train.mean()))"
      ],
      "execution_count": null,
      "outputs": [
        {
          "output_type": "stream",
          "text": [
            "(400000, 18) (400000,)\n",
            "0.0% outliers\n"
          ],
          "name": "stdout"
        }
      ]
    },
    {
      "cell_type": "code",
      "metadata": {
        "id": "IVdT001su-ve"
      },
      "source": [
        "mean, stdev = X_train.mean(axis=0), X_train.std(axis=0)"
      ],
      "execution_count": null,
      "outputs": []
    },
    {
      "cell_type": "code",
      "metadata": {
        "colab": {
          "base_uri": "https://localhost:8080/"
        },
        "id": "HuB_Udta4_4J",
        "outputId": "ae4f7a55-e457-4d7f-f440-63c006f8f362"
      },
      "source": [
        "print(mean)\n",
        "print(stdev)"
      ],
      "execution_count": null,
      "outputs": [
        {
          "output_type": "stream",
          "text": [
            "[1.09550075e+01 1.55620000e-03 1.74745000e-03 5.54626500e-02\n",
            " 5.57733250e-02 9.85440925e-01 1.82663500e-02 1.33057100e-01\n",
            " 1.48641492e+02 2.02133175e+02 8.44858050e-01 5.64032750e-02\n",
            " 1.33479675e-01 2.40508250e-02 2.11637500e-03 1.05915000e-03\n",
            " 5.73124750e-02 5.52324500e-02]\n",
            "[2.17181039e+01 2.78305002e-02 2.61481724e-02 2.28073133e-01\n",
            " 2.26952689e-01 9.25608777e-02 1.16637691e-01 2.77172101e-01\n",
            " 1.03333220e+02 8.68577798e+01 3.05254458e-01 1.79868747e-01\n",
            " 2.80221411e-01 4.92476707e-02 2.95181081e-02 1.59275611e-02\n",
            " 2.24229381e-01 2.17798555e-01]\n"
          ],
          "name": "stdout"
        }
      ]
    },
    {
      "cell_type": "code",
      "metadata": {
        "id": "N7x3OAdtvEgw"
      },
      "source": [
        "_train = (X_train - mean) / stdev"
      ],
      "execution_count": null,
      "outputs": []
    },
    {
      "cell_type": "code",
      "metadata": {
        "colab": {
          "base_uri": "https://localhost:8080/"
        },
        "id": "IhWD1uM14noO",
        "outputId": "e101adc5-a654-492d-93fd-2fcc579eeb56"
      },
      "source": [
        "np.random.seed(0)\n",
        "perc_outlier = 5\n",
        "threshold_batch = create_outlier_batch(kddcup.data, kddcup.target, n_samples=1000, perc_outlier=perc_outlier)\n",
        "X_threshold, y_threshold = threshold_batch.data.astype('float'), threshold_batch.target\n",
        "X_threshold = (X_threshold - mean) / stdev\n",
        "print('{}% outliers'.format(100 * y_threshold.mean()))\n",
        "\n",
        "od.infer_threshold(X_threshold, threshold_perc=100-perc_outlier)\n",
        "print('New threshold: {}'.format(od.threshold))\n"
      ],
      "execution_count": null,
      "outputs": [
        {
          "output_type": "stream",
          "text": [
            "5.0% outliers\n",
            "New threshold: 1.736781618554812\n"
          ],
          "name": "stdout"
        }
      ]
    },
    {
      "cell_type": "code",
      "metadata": {
        "id": "a7lOwQ1qvea6"
      },
      "source": [
        "load_outlier_detector = True"
      ],
      "execution_count": null,
      "outputs": []
    },
    {
      "cell_type": "code",
      "metadata": {
        "id": "FR4odz6Vz7Ag"
      },
      "source": [
        "filepath =  '/content'"
      ],
      "execution_count": null,
      "outputs": []
    },
    {
      "cell_type": "code",
      "metadata": {
        "id": "uGj3f8i0zUQn"
      },
      "source": [
        " \n",
        "if load_outlier_detector:  # load pretrained outlier detector\n",
        "    detector_type = 'outlier'\n",
        "    dataset = 'kddcup'\n",
        "    detector_name = 'OutlierVAE'\n",
        "    od = fetch_detector(filepath, detector_type, dataset, detector_name)\n",
        "    filepath = os.path.join(filepath, detector_name)\n",
        "else:  # define model, initialize, train and save outlier detector\n",
        "    n_features = X_train.shape[1]\n",
        "    latent_dim = 2\n",
        "\n",
        "    encoder_net = tf.keras.Sequential(\n",
        "      [\n",
        "          InputLayer(input_shape=(n_features,)),\n",
        "          Dense(20, activation=tf.nn.relu),\n",
        "          Dense(15, activation=tf.nn.relu),\n",
        "          Dense(7, activation=tf.nn.relu)\n",
        "      ])\n",
        "\n",
        "    decoder_net = tf.keras.Sequential(\n",
        "      [\n",
        "          InputLayer(input_shape=(latent_dim,)),\n",
        "          Dense(7, activation=tf.nn.relu),\n",
        "          Dense(15, activation=tf.nn.relu),\n",
        "          Dense(20, activation=tf.nn.relu),\n",
        "          Dense(n_features, activation=None)\n",
        "      ])\n",
        "\n",
        "    # initialize outlier detector\n",
        "    od = OutlierVAE(threshold=None,  # threshold for outlier score\n",
        "                    score_type='mse',  # use MSE of reconstruction error for outlier detection\n",
        "                    encoder_net=encoder_net,  # can also pass VAE model instead\n",
        "                    decoder_net=decoder_net,  # of separate encoder and decoder\n",
        "                    latent_dim=latent_dim,\n",
        "                    samples=5)\n",
        "    # train\n",
        "    od.fit(X_train,\n",
        "           loss_fn=elbo,\n",
        "           cov_elbo=dict(sim=.01),\n",
        "           epochs=30,\n",
        "           verbose=True)\n",
        "\n",
        "    # save the trained outlier detector\n",
        "    save_detector(od, filepath)"
      ],
      "execution_count": null,
      "outputs": []
    },
    {
      "cell_type": "code",
      "metadata": {
        "id": "-y3pvzXCI7kS"
      },
      "source": [
        "od.summary()"
      ],
      "execution_count": null,
      "outputs": []
    },
    {
      "cell_type": "code",
      "metadata": {
        "colab": {
          "base_uri": "https://localhost:8080/"
        },
        "id": "6JKBiS_Mz5bI",
        "outputId": "a1392f75-36c6-4b84-8656-4a4a66b1b0e4"
      },
      "source": [
        "np.random.seed(1)\n",
        "outlier_batch = create_outlier_batch(kddcup.data, kddcup.target, n_samples=1000, perc_outlier=10)\n",
        "X_outlier, y_outlier = outlier_batch.data.astype('float'), outlier_batch.target\n",
        "X_outlier = (X_outlier - mean) / stdev\n",
        "print(X_outlier.shape, y_outlier.shape)\n",
        "print('{}% outliers'.format(100 * y_outlier.mean()))"
      ],
      "execution_count": null,
      "outputs": [
        {
          "output_type": "stream",
          "text": [
            "(1000, 18) (1000,)\n",
            "10.0% outliers\n"
          ],
          "name": "stdout"
        }
      ]
    },
    {
      "cell_type": "code",
      "metadata": {
        "colab": {
          "base_uri": "https://localhost:8080/"
        },
        "id": "AFzblK4z7D3v",
        "outputId": "927730ac-b2d4-4172-a85b-c56b2d5273a0"
      },
      "source": [
        "od_preds = od.predict(X_outlier,\n",
        "                      outlier_type='instance',    # use 'feature' or 'instance' level\n",
        "                      return_feature_score=True,  # scores used to determine outliers\n",
        "                      return_instance_score=True)\n",
        "print(list(od_preds['data'].keys()))"
      ],
      "execution_count": null,
      "outputs": [
        {
          "output_type": "stream",
          "text": [
            "['instance_score', 'feature_score', 'is_outlier']\n"
          ],
          "name": "stdout"
        }
      ]
    },
    {
      "cell_type": "code",
      "metadata": {
        "id": "bgOA9uKO7Ers",
        "colab": {
          "base_uri": "https://localhost:8080/",
          "height": 282
        },
        "outputId": "f2704251-9fd8-4269-a9f9-2302eeb0a6e4"
      },
      "source": [
        "labels = outlier_batch.target_names\n",
        "y_pred = od_preds['data']['is_outlier']\n",
        "f1 = f1_score(y_outlier, y_pred)\n",
        "print('F1 score: {:.4f}'.format(f1))\n",
        "cm = confusion_matrix(y_outlier, y_pred)\n",
        "df_cm = pd.DataFrame(cm, index=labels, columns=labels)\n",
        "sns.heatmap(df_cm, annot=True, cbar=True, linewidths=.5)\n",
        "plt.show()"
      ],
      "execution_count": null,
      "outputs": [
        {
          "output_type": "stream",
          "text": [
            "F1 score: 0.9754\n"
          ],
          "name": "stdout"
        },
        {
          "output_type": "display_data",
          "data": {
            "image/png": "[encoded data removed]",
            "text/plain": [
              "<Figure size 432x288 with 2 Axes>"
            ]
          },
          "metadata": {
            "tags": [],
            "needs_background": "light"
          }
        }
      ]
    },
    {
      "cell_type": "code",
      "metadata": {
        "id": "Otb6JIC47LY5",
        "colab": {
          "base_uri": "https://localhost:8080/",
          "height": 280
        },
        "outputId": "edd44a87-f39a-4fe8-acf8-42503a703f64"
      },
      "source": [
        "plot_instance_score(od_preds, y_outlier, labels, od.threshold)"
      ],
      "execution_count": null,
      "outputs": [
        {
          "output_type": "display_data",
          "data": {
            "image/png": "[encoded data removed]",
            "text/plain": [
              "<Figure size 432x288 with 1 Axes>"
            ]
          },
          "metadata": {
            "tags": [],
            "needs_background": "light"
          }
        }
      ]
    },
    {
      "cell_type": "code",
      "metadata": {
        "id": "-0gHLZCR7On9"
      },
      "source": [
        ""
      ],
      "execution_count": null,
      "outputs": []
    }
  ]
}