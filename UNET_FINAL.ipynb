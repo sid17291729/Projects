{
  "nbformat": 4,
  "nbformat_minor": 0,
  "metadata": {
    "accelerator": "GPU",
    "colab": {
      "name": "UNET_FINAL.ipynb",
      "provenance": [],
      "collapsed_sections": []
    },
    "kernelspec": {
      "display_name": "Python 3",
      "name": "python3"
    }
  },
  "cells": [
    {
      "cell_type": "code",
      "metadata": {
        "id": "ighUY4vF9tcP"
      },
      "source": [
        "import torch\n",
        "import torch.nn as nn\n",
        "import torch.optim as optim\n",
        "import PIL\n",
        "import torch.nn.functional as F"
      ],
      "execution_count": null,
      "outputs": []
    },
    {
      "cell_type": "code",
      "metadata": {
        "id": "qtlcPM7qGxWU"
      },
      "source": [
        "def G_noise(image,mu,sigma):\n",
        "  img=np.array(image).astype(np.int16)\n",
        "  t=np.zeros(img.shape,np.int16)\n",
        "  img=img+cv2.randn(t,mu,sigma)\n",
        "  img[img<0]=0\n",
        "  img[img>255]=255\n",
        "  img = img.astype(np.uint8)\n",
        "  #image = PIL.Image.fromarray(img)\n",
        "  image=img\n",
        "  return image"
      ],
      "execution_count": null,
      "outputs": []
    },
    {
      "cell_type": "code",
      "metadata": {
        "id": "U-w-Hvcg-cNL"
      },
      "source": [
        "#unet Block\n",
        "def double_conv_layer(in_channels, filter):\n",
        "  return nn.Sequential(\n",
        "  nn.Conv2d(in_channels=in_channels,out_channels=filter,kernel_size=(3,3),padding=(1,1)),\n",
        "  nn.BatchNorm2d(num_features=filter),\n",
        "  nn.ReLU(inplace=True),\n",
        "  nn.Conv2d(in_channels=filter,out_channels=filter,kernel_size=(3,3),padding=(1,1)),\n",
        "  nn.BatchNorm2d(num_features=filter),\n",
        "  nn.ReLU(inplace=True),\n",
        "  nn.Dropout2d(p=0.1))\n",
        "   \n",
        "\n"
      ],
      "execution_count": null,
      "outputs": []
    },
    {
      "cell_type": "code",
      "metadata": {
        "id": "ei5RbShbwjTX"
      },
      "source": [
        "#defining the network\n",
        "class unet(nn.Module):\n",
        "  def __init__(self):\n",
        "    super(unet,self).__init__()\n",
        "    self.d1=double_conv_layer(1,32)\n",
        "    self.p1=nn.MaxPool2d(kernel_size=2,stride=(2,2))\n",
        "    self.d2=double_conv_layer(32,64)\n",
        "   \n",
        "    self.d3=double_conv_layer(64,128)\n",
        "   \n",
        "    self.d4=double_conv_layer(128,256)\n",
        "    self.d5=double_conv_layer(256,512)    \n",
        "    self.bottle=double_conv_layer(512,1024)\n",
        "\n",
        "    self.u5=nn.ConvTranspose2d(in_channels=1024,out_channels=512,kernel_size=(2,2),stride=(2,2))\n",
        "    self.ul5=double_conv_layer(1024,512)\n",
        "    self.u4=nn.ConvTranspose2d(in_channels=512,out_channels=256,kernel_size=(2,2),stride=(2,2))\n",
        "    self.ul4=double_conv_layer(512,256)\n",
        "    self.u3=nn.ConvTranspose2d(in_channels=256,out_channels=128,kernel_size=(2,2),stride=(2,2))\n",
        "    self.ul3=double_conv_layer(256,128)\n",
        "\n",
        "    self.u2=nn.ConvTranspose2d(in_channels=128,out_channels=64,kernel_size=(2,2),stride=(2,2))\n",
        "    self.ul2=double_conv_layer(128,64)\n",
        "\n",
        "    self.u1=nn.ConvTranspose2d(in_channels=64,out_channels=32,kernel_size=(2,2),stride=(2,2))\n",
        "    self.ul1=double_conv_layer(64,32)\n",
        "    \n",
        "    self.ol=nn.Conv2d(in_channels=32,out_channels=2,kernel_size=(1,1))\n",
        "\n",
        "    self.sig=nn.Sigmoid()\n",
        "  def forward(self,X):\n",
        "    down1=self.d1(X)\n",
        "    #print(down1.shape)\n",
        "    pool1=self.p1(down1)\n",
        "    \n",
        "    down2=self.d2(pool1)\n",
        "    pool2=self.p1(down2)\n",
        "    \n",
        "    down3=self.d3(pool2)\n",
        "    pool3=self.p1(down3)\n",
        "\n",
        "    down4=self.d4(pool3)\n",
        "    pool4=self.p1(down4)\n",
        "    \n",
        "    #print(pool4.shape)\n",
        "    down5=self.d5(pool4)\n",
        "    pool5=self.p1(down5)\n",
        "    \n",
        "    bottleneck=self.bottle(pool5)\n",
        "    \n",
        "    up5=self.u5(bottleneck)\n",
        "    up5=torch.cat([up5,down5],dim=1)\n",
        "    up5=self.ul5(up5)\n",
        "    \n",
        "    up4=self.u4(up5)\n",
        "    up4=torch.cat([up4,down4],dim=1)\n",
        "    up4=self.ul4(up4)\n",
        "    \n",
        "    up3=self.u3(up4)\n",
        "    up3=torch.cat([up3,down3],dim=1)\n",
        "    up3=self.ul3(up3)\n",
        "\n",
        "    up2=self.u2(up3)\n",
        "    up2=torch.cat([up2,down2],dim=1)\n",
        "    up2=self.ul2(up2)\n",
        "    \n",
        "    up1=self.u1(up2)\n",
        "    up1=torch.cat([up1,down1],dim=1)\n",
        "    up1=self.ul1(up1)\n",
        "    \n",
        "    out=self.ol(up1)\n",
        "    \n",
        "    out=self.sig(out)\n",
        "    \n",
        "    return out"
      ],
      "execution_count": null,
      "outputs": []
    },
    {
      "cell_type": "code",
      "metadata": {
        "id": "IsiOlLiwBN7W"
      },
      "source": [
        "model=unet()"
      ],
      "execution_count": null,
      "outputs": []
    },
    {
      "cell_type": "code",
      "metadata": {
        "colab": {
          "base_uri": "https://localhost:8080/"
        },
        "id": "g8e3WIVaBQIq",
        "outputId": "8e4d3f75-6cf9-42dc-a0f2-c149b2ceb2b0"
      },
      "source": [
        "x=torch.randn((10,1,128,128))\n",
        "x=model(x)\n",
        "print(x.shape)"
      ],
      "execution_count": null,
      "outputs": [
        {
          "output_type": "stream",
          "text": [
            "torch.Size([10, 1, 128, 128])\n"
          ],
          "name": "stdout"
        }
      ]
    },
    {
      "cell_type": "code",
      "metadata": {
        "id": "zx3NrHXAw7YG"
      },
      "source": [
        "#getting the important libraries\n",
        "import numpy as np\n",
        "import os\n",
        "import cv2\n",
        "import glob\n",
        "from google.colab.patches import cv2_imshow"
      ],
      "execution_count": null,
      "outputs": []
    },
    {
      "cell_type": "code",
      "metadata": {
        "colab": {
          "base_uri": "https://localhost:8080/"
        },
        "id": "wXmOPCtrBher",
        "outputId": "9ef082a7-78e1-44d6-f897-e10858d35c7b"
      },
      "source": [
        "from google.colab import drive\n",
        "drive.mount('/content/drive')"
      ],
      "execution_count": null,
      "outputs": [
        {
          "output_type": "stream",
          "text": [
            "Mounted at /content/drive\n"
          ],
          "name": "stdout"
        }
      ]
    },
    {
      "cell_type": "code",
      "metadata": {
        "id": "odKQ0H3Twtpg"
      },
      "source": [
        "#adding border\n",
        "def add_border(img: np.array, size_x: int = 128, size_y: int = 128) -> (np.array, int, int):\n",
        "    \"\"\"Add border to image, so it will divide window sizes: size_x and size_y\"\"\"\n",
        "    max_y, max_x = img.shape[:2]\n",
        "    border_y = 0\n",
        "    if max_y % size_y != 0:\n",
        "        a = (size_y - (max_y % size_y) + 1)\n",
        "       # print('a=',a)\n",
        "        l=0\n",
        "        r=0\n",
        "        if a%2!=0:\n",
        "          l=a//2\n",
        "          r=a//2\n",
        "        else:\n",
        "          l=a//2\n",
        "          r=(a//2)-1\n",
        "        #print(l,r)\n",
        "        img = cv2.copyMakeBorder(img, l, r, 0, 0, cv2.BORDER_CONSTANT, value=[255, 255, 255])\n",
        "        \n",
        "    border_x = 0\n",
        "    if max_x % size_x != 0:\n",
        "        a = (size_x - (max_x % size_x) + 1)\n",
        "        l=0\n",
        "        r=0\n",
        "        if a%2!=0:\n",
        "          l=a//2\n",
        "          r=a//2\n",
        "        else:\n",
        "          l=a//2\n",
        "          r=(a//2)-1\n",
        "        #print(l,r)\n",
        "        img = cv2.copyMakeBorder(img, 0, 0, l, r, cv2.BORDER_CONSTANT, value=[255, 255, 255])\n",
        "    return img, border_y, border_x\n",
        "\n",
        "\n",
        "    #preprocessing\n",
        "def split_img(img: np.array, size_x: int = 128, size_y: int = 128 )-> [np.array]:\n",
        "    \"\"\"Split image to parts (little images).\n",
        "    Walk through the whole image by the window of size size_x * size_y without overlays and\n",
        "    save all parts in list. Images sizes should divide window sizes.\n",
        "    \"\"\"\n",
        "    max_y, max_x = img.shape[:2]\n",
        "    parts = []\n",
        "    curr_y = 0\n",
        "    # TODO: rewrite with generators.\n",
        "    while (curr_y + size_y) <= max_y:\n",
        "        curr_x = 0\n",
        "        while (curr_x + size_x) <= max_x:\n",
        "            parts.append(img[curr_y:curr_y + size_y, curr_x:curr_x + size_x])\n",
        "            curr_x += size_x\n",
        "        curr_y += size_y\n",
        "    return parts"
      ],
      "execution_count": null,
      "outputs": []
    },
    {
      "cell_type": "code",
      "metadata": {
        "colab": {
          "base_uri": "https://localhost:8080/"
        },
        "id": "4jSmq6XGxTI-",
        "outputId": "e5f7bb24-c4ad-4128-e28f-f802c4e2f15f"
      },
      "source": [
        "# getting the images from drive for training\n",
        "\n",
        "get_printed=glob.glob('/content/drive/MyDrive/Siddharth-Binarization/dataset_DIBCO/*')\n",
        "print(len(get_printed))\n",
        "\n",
        "images_in=[]\n",
        "images_gt=[]\n",
        "for paths in get_printed:\n",
        "  n=len(glob.glob(paths+\"/*_in.png\"))\n",
        "  for i in range(1,n+1):\n",
        "    if (i<10):\n",
        "      f_name_in=os.path.join(paths,\"0\"+str(i)+\"_in.png\")\n",
        "      f_name_gt=os.path.join(paths,\"0\"+str(i)+\"_gt.png\")\n",
        "    else :\n",
        "      f_name_in=os.path.join(paths,str(i)+\"_in.png\")\n",
        "      f_name_gt=os.path.join(paths,str(i)+\"_gt.png\")\n",
        "\n",
        "    images_in.append(cv2.imread(f_name_in,cv2.IMREAD_GRAYSCALE))\n",
        "    images_gt.append(cv2.imread(f_name_gt,cv2.IMREAD_GRAYSCALE))"
      ],
      "execution_count": null,
      "outputs": [
        {
          "output_type": "stream",
          "text": [
            "4\n"
          ],
          "name": "stdout"
        }
      ]
    },
    {
      "cell_type": "code",
      "metadata": {
        "colab": {
          "background_save": true
        },
        "id": "Vxfrj2VsD57d"
      },
      "source": [
        "a=images_in[0]\n",
        "a=G_noise(a,0,100)\n",
        "cv2_imshow(images_in[0])\n",
        "cv2_imshow(a)"
      ],
      "execution_count": null,
      "outputs": []
    },
    {
      "cell_type": "code",
      "metadata": {
        "colab": {
          "base_uri": "https://localhost:8080/"
        },
        "id": "bX0ZjxiExZNP",
        "outputId": "1143670e-5e80-45cc-df9d-d0f799761a7c"
      },
      "source": [
        "#splitting the images into 128X128 images for training\n",
        "images_in=np.array(images_in)\n",
        "images_gt=np.array(images_gt)\n",
        "print(images_gt.shape)\n",
        "\n",
        "in_set=[]\n",
        "gt_set=[]\n",
        "n=images_in.shape[0]\n",
        "for i in range(n):\n",
        "  img_in,_,_=add_border(images_in[i])\n",
        "  img_gt,_,_=add_border(images_gt[i])\n",
        "  parts1=split_img(img_in)\n",
        "  parts2=split_img(img_gt)\n",
        "  for img in parts1:\n",
        "    in_set.append(img)\n",
        "  for img in parts2:\n",
        "    gt_set.append(img)"
      ],
      "execution_count": null,
      "outputs": [
        {
          "output_type": "stream",
          "text": [
            "(31,)\n"
          ],
          "name": "stdout"
        },
        {
          "output_type": "stream",
          "text": [
            "/usr/local/lib/python3.6/dist-packages/ipykernel_launcher.py:2: VisibleDeprecationWarning: Creating an ndarray from ragged nested sequences (which is a list-or-tuple of lists-or-tuples-or ndarrays with different lengths or shapes) is deprecated. If you meant to do this, you must specify 'dtype=object' when creating the ndarray\n",
            "  \n",
            "/usr/local/lib/python3.6/dist-packages/ipykernel_launcher.py:3: VisibleDeprecationWarning: Creating an ndarray from ragged nested sequences (which is a list-or-tuple of lists-or-tuples-or ndarrays with different lengths or shapes) is deprecated. If you meant to do this, you must specify 'dtype=object' when creating the ndarray\n",
            "  This is separate from the ipykernel package so we can avoid doing imports until\n"
          ],
          "name": "stderr"
        }
      ]
    },
    {
      "cell_type": "code",
      "metadata": {
        "colab": {
          "base_uri": "https://localhost:8080/"
        },
        "id": "znv-PtdDM4ye",
        "outputId": "9a13ec19-8c68-44dc-e08e-27ff141dcd47"
      },
      "source": [
        "cd drive/My Drive"
      ],
      "execution_count": null,
      "outputs": [
        {
          "output_type": "stream",
          "text": [
            "/content/drive/My Drive\n"
          ],
          "name": "stdout"
        }
      ]
    },
    {
      "cell_type": "code",
      "metadata": {
        "id": "ijs8tSU9APeJ"
      },
      "source": [
        "#this cell \n",
        "\n",
        "'''print(images_gt[1].shape)\n",
        "disp=255-predict(model,images_in[1],device)\n",
        "\n",
        "#cv2.imwrite(\"I1.tiff\",disp)\\\n",
        "#disp.resize(images_in[1].shape)\n",
        "\n",
        "X=disp[6:377,50:1230]\n",
        "cv2.imwrite(\"Ia.png\",X,[cv2.IMWRITE_PNG_BILEVEL, 1])\n",
        "print(X.shape)\n",
        "cv2_imshow(images_in[1])\n",
        "cv2_imshow(X)'''"
      ],
      "execution_count": null,
      "outputs": []
    },
    {
      "cell_type": "code",
      "metadata": {
        "colab": {
          "base_uri": "https://localhost:8080/"
        },
        "id": "q5LLGXlrx66a",
        "outputId": "6f87f457-5765-4f6c-f08d-d10b905a58e7"
      },
      "source": [
        "# resizing the tensor to pytorch format for training in pytorch\n",
        "in_set=np.array(in_set)\n",
        "gt_set=np.array(gt_set)\n",
        "#print(gt_set.shape)\n",
        "\n",
        "num_samples=in_set.shape[0]\n",
        "in_set.resize((num_samples,1,128,128))\n",
        "#gt_set.resize((num_samples,1,128,128))\n",
        "print(in_set.shape)\n",
        "print(gt_set.shape)\n"
      ],
      "execution_count": null,
      "outputs": [
        {
          "output_type": "stream",
          "text": [
            "(2121, 1, 128, 128)\n",
            "(2121, 128, 128)\n"
          ],
          "name": "stdout"
        }
      ]
    },
    {
      "cell_type": "code",
      "metadata": {
        "colab": {
          "base_uri": "https://localhost:8080/"
        },
        "id": "nZ_dTw3HyD3z",
        "outputId": "3cb5412c-4764-4c00-d227-9375c30726ab"
      },
      "source": [
        "# transferring the modle to the GPU\n",
        "device=torch.device(\"cuda\" if torch.cuda.is_available() else \"cpu\")\n",
        "print(device)\n",
        "model=model.to(device)"
      ],
      "execution_count": null,
      "outputs": [
        {
          "output_type": "stream",
          "text": [
            "cuda\n"
          ],
          "name": "stdout"
        }
      ]
    },
    {
      "cell_type": "code",
      "metadata": {
        "id": "nwErPtPwySRM"
      },
      "source": [
        "#function to invert the images\n",
        "def invert(gt_set):\n",
        "  for i,im in enumerate(gt_set):\n",
        "    #print(i)\n",
        "    gt_set[i]=255-gt_set[i]\n",
        "  return gt_set"
      ],
      "execution_count": null,
      "outputs": []
    },
    {
      "cell_type": "code",
      "metadata": {
        "colab": {
          "base_uri": "https://localhost:8080/",
          "height": 337
        },
        "id": "v4Gj5EwiyWCS",
        "outputId": "4b8504b9-c294-4f01-89e2-5f5bc5bb269d"
      },
      "source": [
        "#inverting the ground truth images\n",
        "gt_set=invert(gt_set)\n",
        "cv2_imshow(gt_set[0][0])"
      ],
      "execution_count": null,
      "outputs": [
        {
          "output_type": "error",
          "ename": "IndexError",
          "evalue": "ignored",
          "traceback": [
            "\u001b[0;31m---------------------------------------------------------------------------\u001b[0m",
            "\u001b[0;31mIndexError\u001b[0m                                Traceback (most recent call last)",
            "\u001b[0;32m<ipython-input-16-c6c7909f9256>\u001b[0m in \u001b[0;36m<module>\u001b[0;34m()\u001b[0m\n\u001b[1;32m      1\u001b[0m \u001b[0;31m#inverting the ground truth images\u001b[0m\u001b[0;34m\u001b[0m\u001b[0;34m\u001b[0m\u001b[0;34m\u001b[0m\u001b[0m\n\u001b[1;32m      2\u001b[0m \u001b[0mgt_set\u001b[0m\u001b[0;34m=\u001b[0m\u001b[0minvert\u001b[0m\u001b[0;34m(\u001b[0m\u001b[0mgt_set\u001b[0m\u001b[0;34m)\u001b[0m\u001b[0;34m\u001b[0m\u001b[0;34m\u001b[0m\u001b[0m\n\u001b[0;32m----> 3\u001b[0;31m \u001b[0mcv2_imshow\u001b[0m\u001b[0;34m(\u001b[0m\u001b[0mgt_set\u001b[0m\u001b[0;34m[\u001b[0m\u001b[0;36m0\u001b[0m\u001b[0;34m]\u001b[0m\u001b[0;34m[\u001b[0m\u001b[0;36m0\u001b[0m\u001b[0;34m]\u001b[0m\u001b[0;34m)\u001b[0m\u001b[0;34m\u001b[0m\u001b[0;34m\u001b[0m\u001b[0m\n\u001b[0m",
            "\u001b[0;32m/usr/local/lib/python3.6/dist-packages/google/colab/patches/__init__.py\u001b[0m in \u001b[0;36mcv2_imshow\u001b[0;34m(a)\u001b[0m\n\u001b[1;32m     27\u001b[0m     \u001b[0;32melse\u001b[0m\u001b[0;34m:\u001b[0m\u001b[0;34m\u001b[0m\u001b[0;34m\u001b[0m\u001b[0m\n\u001b[1;32m     28\u001b[0m       \u001b[0ma\u001b[0m \u001b[0;34m=\u001b[0m \u001b[0mcv2\u001b[0m\u001b[0;34m.\u001b[0m\u001b[0mcvtColor\u001b[0m\u001b[0;34m(\u001b[0m\u001b[0ma\u001b[0m\u001b[0;34m,\u001b[0m \u001b[0mcv2\u001b[0m\u001b[0;34m.\u001b[0m\u001b[0mCOLOR_BGR2RGB\u001b[0m\u001b[0;34m)\u001b[0m\u001b[0;34m\u001b[0m\u001b[0;34m\u001b[0m\u001b[0m\n\u001b[0;32m---> 29\u001b[0;31m   \u001b[0mdisplay\u001b[0m\u001b[0;34m.\u001b[0m\u001b[0mdisplay\u001b[0m\u001b[0;34m(\u001b[0m\u001b[0mPIL\u001b[0m\u001b[0;34m.\u001b[0m\u001b[0mImage\u001b[0m\u001b[0;34m.\u001b[0m\u001b[0mfromarray\u001b[0m\u001b[0;34m(\u001b[0m\u001b[0ma\u001b[0m\u001b[0;34m)\u001b[0m\u001b[0;34m)\u001b[0m\u001b[0;34m\u001b[0m\u001b[0;34m\u001b[0m\u001b[0m\n\u001b[0m\u001b[1;32m     30\u001b[0m \u001b[0;34m\u001b[0m\u001b[0m\n\u001b[1;32m     31\u001b[0m \u001b[0;34m\u001b[0m\u001b[0m\n",
            "\u001b[0;32m/usr/local/lib/python3.6/dist-packages/PIL/Image.py\u001b[0m in \u001b[0;36mfromarray\u001b[0;34m(obj, mode)\u001b[0m\n\u001b[1;32m   2692\u001b[0m         \u001b[0;32mraise\u001b[0m \u001b[0mValueError\u001b[0m\u001b[0;34m(\u001b[0m\u001b[0;34m\"Too many dimensions: %d > %d.\"\u001b[0m \u001b[0;34m%\u001b[0m \u001b[0;34m(\u001b[0m\u001b[0mndim\u001b[0m\u001b[0;34m,\u001b[0m \u001b[0mndmax\u001b[0m\u001b[0;34m)\u001b[0m\u001b[0;34m)\u001b[0m\u001b[0;34m\u001b[0m\u001b[0;34m\u001b[0m\u001b[0m\n\u001b[1;32m   2693\u001b[0m \u001b[0;34m\u001b[0m\u001b[0m\n\u001b[0;32m-> 2694\u001b[0;31m     \u001b[0msize\u001b[0m \u001b[0;34m=\u001b[0m \u001b[0mshape\u001b[0m\u001b[0;34m[\u001b[0m\u001b[0;36m1\u001b[0m\u001b[0;34m]\u001b[0m\u001b[0;34m,\u001b[0m \u001b[0mshape\u001b[0m\u001b[0;34m[\u001b[0m\u001b[0;36m0\u001b[0m\u001b[0;34m]\u001b[0m\u001b[0;34m\u001b[0m\u001b[0;34m\u001b[0m\u001b[0m\n\u001b[0m\u001b[1;32m   2695\u001b[0m     \u001b[0;32mif\u001b[0m \u001b[0mstrides\u001b[0m \u001b[0;32mis\u001b[0m \u001b[0;32mnot\u001b[0m \u001b[0;32mNone\u001b[0m\u001b[0;34m:\u001b[0m\u001b[0;34m\u001b[0m\u001b[0;34m\u001b[0m\u001b[0m\n\u001b[1;32m   2696\u001b[0m         \u001b[0;32mif\u001b[0m \u001b[0mhasattr\u001b[0m\u001b[0;34m(\u001b[0m\u001b[0mobj\u001b[0m\u001b[0;34m,\u001b[0m \u001b[0;34m\"tobytes\"\u001b[0m\u001b[0;34m)\u001b[0m\u001b[0;34m:\u001b[0m\u001b[0;34m\u001b[0m\u001b[0;34m\u001b[0m\u001b[0m\n",
            "\u001b[0;31mIndexError\u001b[0m: tuple index out of range"
          ]
        }
      ]
    },
    {
      "cell_type": "code",
      "metadata": {
        "id": "2Z7T5PJZyYZl"
      },
      "source": [
        "#normalizing the pixel valuse\n",
        "in_set=in_set/255\n",
        "gt_set=gt_set/255"
      ],
      "execution_count": null,
      "outputs": []
    },
    {
      "cell_type": "code",
      "metadata": {
        "id": "HL2OdIiK53Bh"
      },
      "source": [
        "#getting the test set\n",
        "in_test=in_set[2021:2121]\n",
        "gt_test=gt_set[2021:2121]\n",
        "in_set=in_set[0:2021]\n",
        "gt_set=gt_set[0:2021]"
      ],
      "execution_count": null,
      "outputs": []
    },
    {
      "cell_type": "code",
      "metadata": {
        "id": "hAiYuXCI54r3"
      },
      "source": [
        "#transferring all the tensors to the gpu\n",
        "in_test=torch.tensor(in_test,device=device,dtype=torch.float32)\n",
        "gt_test=torch.tensor(gt_test,device=device,dtype=torch.long)\n",
        "in_set=torch.tensor(in_set,device=device,dtype=torch.float32)\n",
        "gt_set=torch.tensor(gt_set,device=device,dtype=torch.long)"
      ],
      "execution_count": null,
      "outputs": []
    },
    {
      "cell_type": "code",
      "metadata": {
        "id": "TYx_uLW6yyfX"
      },
      "source": [
        "#preparation for training\n",
        "lr=0.001  #learning rate\n",
        "batch_size=32\n",
        "\n",
        "#loss_func=nn.CrossEntropyLoss()\n",
        "opti=optim.Adam(model.parameters(),lr=lr)"
      ],
      "execution_count": null,
      "outputs": []
    },
    {
      "cell_type": "code",
      "metadata": {
        "colab": {
          "base_uri": "https://localhost:8080/"
        },
        "id": "sbJB6_zWzLAB",
        "outputId": "5d72d6b5-9c69-42c4-834e-dd04c9cea042"
      },
      "source": [
        "#generating a single batch for the model to overfit for checking the correctness\n",
        "'''ints=in_set[0:32].to(device=device)\n",
        "gtts=gt_set[0:32].to(device=device)\n",
        "print(ints.shape)'''"
      ],
      "execution_count": null,
      "outputs": [
        {
          "output_type": "stream",
          "text": [
            "torch.Size([32, 1, 128, 128])\n"
          ],
          "name": "stdout"
        }
      ]
    },
    {
      "cell_type": "code",
      "metadata": {
        "id": "ZFOW0nu9z5KC"
      },
      "source": [
        "#over fitting the batch\n",
        "'''\n",
        "for i in range(500):\n",
        "  scores=model(ints)\n",
        "  target=gtts\n",
        "  l=loss_func(scores,target)\n",
        "  opti.zero_grad()\n",
        "  #print(i)\n",
        "  l.backward()\n",
        "  opti.step()\n",
        "\n",
        "  if i%20 is 0:\n",
        "    print(l.item())'''"
      ],
      "execution_count": null,
      "outputs": []
    },
    {
      "cell_type": "code",
      "metadata": {
        "id": "VGuoTBM-JW6f"
      },
      "source": [
        "def dice_loss(input,target):\n",
        "    # print(input.shape)\n",
        "    # print(target.shape)\n",
        "    assert input.size() == target.size(), \"Input sizes must be equal.\"\n",
        "    assert input.dim() == 4, \"Input must be a 4D Tensor.\"\n",
        "    uniques=np.unique(target.cpu().numpy())\n",
        "    assert set(list(uniques))<=set([0,1]), \"target must only contain zeros and ones\"\n",
        "    probs=input\n",
        "    num=probs*target#b,c,h,w--p*g\n",
        "    num=torch.sum(num,dim=3)#b,c,h\n",
        "    num=torch.sum(num,dim=2)\n",
        "    \n",
        "\n",
        "    den1=probs*probs#--p^2\n",
        "    den1=torch.sum(den1,dim=3)#b,c,h\n",
        "    den1=torch.sum(den1,dim=2)\n",
        "    \n",
        "\n",
        "    den2=target*target#--g^2\n",
        "    den2=torch.sum(den2,dim=3)#b,c,h\n",
        "    den2=torch.sum(den2,dim=2)#b,c\n",
        "    \n",
        "\n",
        "    dice=2*((num+1)/(den1+den2+1))\n",
        "    dice_eso=dice#we ignore bg dice val, and take the fg\n",
        "    #print(dice_eso.shape)\n",
        "    dice_total=-1*torch.sum(dice_eso)/dice_eso.size(0)#divide by batch_sz\n",
        "\n",
        "    return dice_total"
      ],
      "execution_count": null,
      "outputs": []
    },
    {
      "cell_type": "code",
      "metadata": {
        "colab": {
          "base_uri": "https://localhost:8080/"
        },
        "id": "Fmfq3-eO5Y_q",
        "outputId": "1e91bc6e-ea07-4757-cf19-eebfd93f09f1"
      },
      "source": [
        "\n",
        "#training the model for num_epochs\n",
        "num_epochs=5\n",
        "for epoch in range(num_epochs):\n",
        "  #perm=torch.randperm(in_set.size()[0])\n",
        "  #perm=perm-1\n",
        "  n=in_set.size()[0]\n",
        "  print(epoch)\n",
        "  for i in range(0,n,batch_size):\n",
        "    opti.zero_grad()\n",
        "    #indices=perm[i:i+batch_size]\n",
        "    \n",
        "    X=in_set[i:i+batch_size]\n",
        "   \n",
        "    scores=model.forward(X)\n",
        "    loss=dice_loss(scores,gt_set[i:i+batch_size])\n",
        "\n",
        "    loss.backward()\n",
        "    opti.step()\n",
        "\n",
        "    if i%1024 is 0:\n",
        "      print(loss.item())"
      ],
      "execution_count": null,
      "outputs": [
        {
          "output_type": "stream",
          "text": [
            "0\n",
            "-0.8936399221420288\n",
            "-1.442654013633728\n",
            "1\n",
            "-0.9224237203598022\n",
            "-1.4201297760009766\n",
            "2\n",
            "-0.8833965063095093\n",
            "-1.4574799537658691\n",
            "3\n",
            "-0.8863343596458435\n",
            "-1.4574757814407349\n",
            "4\n",
            "-0.958027720451355\n",
            "-1.4664568901062012\n"
          ],
          "name": "stdout"
        }
      ]
    },
    {
      "cell_type": "code",
      "metadata": {
        "id": "1RpBvdLihAFn"
      },
      "source": [
        "\n",
        "#training the model for num_epochs\n",
        "num_epochs=5\n",
        "for epoch in range(num_epochs):\n",
        "  #perm=torch.randperm(in_set.size()[0])\n",
        "  #perm=perm-1\n",
        "  n=in_set.size()[0]\n",
        "  print(epoch)\n",
        "  for i in range(0,n,batch_size):\n",
        "    opti.zero_grad()\n",
        "    #indices=perm[i:i+batch_size]\n",
        "    \n",
        "    X=in_set[i:i+batch_size]\n",
        "   \n",
        "    scores=model.forward(X)\n",
        "    loss=loss_func(scores,gt_set[i:i+batch_size])\n",
        "\n",
        "    loss.backward()\n",
        "    opti.step()\n",
        "\n",
        "    if i%1024 is 0:\n",
        "      print(loss.item())"
      ],
      "execution_count": null,
      "outputs": []
    },
    {
      "cell_type": "code",
      "metadata": {
        "id": "4-Ho-awIKgXc",
        "colab": {
          "base_uri": "https://localhost:8080/",
          "height": 212
        },
        "outputId": "a92c73ba-0910-4abb-cace-5168fba5ab4f"
      },
      "source": [
        "#checking accuracy\n",
        "x=model.forward(in_test[0:32])\n",
        "a,b=torch.max(x.data,dim=1,keepdims=True)\n",
        "sz=b.shape[0]\n",
        "num=0\n",
        "for i in range(sz):\n",
        "  num=num+b[i][0].eq(gt_test[i]).sum().item()\n",
        "denom+=sz*128*128\n",
        "print(num/denom)"
      ],
      "execution_count": null,
      "outputs": [
        {
          "output_type": "error",
          "ename": "NameError",
          "evalue": "ignored",
          "traceback": [
            "\u001b[0;31m---------------------------------------------------------------------------\u001b[0m",
            "\u001b[0;31mNameError\u001b[0m                                 Traceback (most recent call last)",
            "\u001b[0;32m<ipython-input-75-c18cf47ea5b1>\u001b[0m in \u001b[0;36m<module>\u001b[0;34m()\u001b[0m\n\u001b[1;32m      6\u001b[0m \u001b[0;32mfor\u001b[0m \u001b[0mi\u001b[0m \u001b[0;32min\u001b[0m \u001b[0mrange\u001b[0m\u001b[0;34m(\u001b[0m\u001b[0msz\u001b[0m\u001b[0;34m)\u001b[0m\u001b[0;34m:\u001b[0m\u001b[0;34m\u001b[0m\u001b[0;34m\u001b[0m\u001b[0m\n\u001b[1;32m      7\u001b[0m   \u001b[0mnum\u001b[0m\u001b[0;34m=\u001b[0m\u001b[0mnum\u001b[0m\u001b[0;34m+\u001b[0m\u001b[0mb\u001b[0m\u001b[0;34m[\u001b[0m\u001b[0mi\u001b[0m\u001b[0;34m]\u001b[0m\u001b[0;34m[\u001b[0m\u001b[0;36m0\u001b[0m\u001b[0;34m]\u001b[0m\u001b[0;34m.\u001b[0m\u001b[0meq\u001b[0m\u001b[0;34m(\u001b[0m\u001b[0mgt_test\u001b[0m\u001b[0;34m[\u001b[0m\u001b[0mi\u001b[0m\u001b[0;34m]\u001b[0m\u001b[0;34m)\u001b[0m\u001b[0;34m.\u001b[0m\u001b[0msum\u001b[0m\u001b[0;34m(\u001b[0m\u001b[0;34m)\u001b[0m\u001b[0;34m.\u001b[0m\u001b[0mitem\u001b[0m\u001b[0;34m(\u001b[0m\u001b[0;34m)\u001b[0m\u001b[0;34m\u001b[0m\u001b[0;34m\u001b[0m\u001b[0m\n\u001b[0;32m----> 8\u001b[0;31m \u001b[0mdenom\u001b[0m\u001b[0;34m+=\u001b[0m\u001b[0msz\u001b[0m\u001b[0;34m*\u001b[0m\u001b[0;36m128\u001b[0m\u001b[0;34m*\u001b[0m\u001b[0;36m128\u001b[0m\u001b[0;34m\u001b[0m\u001b[0;34m\u001b[0m\u001b[0m\n\u001b[0m\u001b[1;32m      9\u001b[0m \u001b[0mprint\u001b[0m\u001b[0;34m(\u001b[0m\u001b[0mnum\u001b[0m\u001b[0;34m/\u001b[0m\u001b[0mdenom\u001b[0m\u001b[0;34m)\u001b[0m\u001b[0;34m\u001b[0m\u001b[0;34m\u001b[0m\u001b[0m\n",
            "\u001b[0;31mNameError\u001b[0m: name 'denom' is not defined"
          ]
        }
      ]
    },
    {
      "cell_type": "code",
      "metadata": {
        "id": "DeGlYMmtA9OS"
      },
      "source": [
        "#saving the model weights after training\n",
        "#torch.save(model.state_dict(),'/content/drive/My Drive/Siddharth-Binarization/model_5eps.pt')"
      ],
      "execution_count": null,
      "outputs": []
    },
    {
      "cell_type": "code",
      "metadata": {
        "id": "tQzYvg7_DMKP"
      },
      "source": [
        "# loading the weights\n",
        "m1=torch.load('/content/drive/My Drive/Siddharth-Binarization/model_5eps.pt')\n",
        "model=unet()\n",
        "model.load_state_dict(m1)"
      ],
      "execution_count": null,
      "outputs": []
    },
    {
      "cell_type": "code",
      "metadata": {
        "colab": {
          "base_uri": "https://localhost:8080/"
        },
        "id": "CwxkH53uSLzG",
        "outputId": "fcf9c173-db07-409a-ef33-d38bd2bff53b"
      },
      "source": [
        "get_hr=glob.glob('/content/drive/My Drive/Siddharth-Binarization/hand_written/*')\n",
        "print(get_hr)"
      ],
      "execution_count": null,
      "outputs": [
        {
          "output_type": "stream",
          "text": [
            "['/content/drive/My Drive/hand_written/03_in.png', '/content/drive/My Drive/hand_written/03_gt.png']\n"
          ],
          "name": "stdout"
        }
      ]
    },
    {
      "cell_type": "code",
      "metadata": {
        "id": "HoJWDIF7Kaq3"
      },
      "source": [
        "#getting the handwritten image\n",
        "in_wr=cv2.imread(get_hr[0],cv2.IMREAD_GRAYSCALE)\n",
        "gt_wr=cv2.imread(get_hr[1],cv2.IMREAD_GRAYSCALE)\n",
        "in_wr=np.array(in_wr)\n",
        "gt_wr=np.array(gt_wr)"
      ],
      "execution_count": null,
      "outputs": []
    },
    {
      "cell_type": "code",
      "metadata": {
        "id": "jupYDL7cKhlh"
      },
      "source": [
        "in_wr,_,_=add_border(in_wr)\n",
        "gt_wr,_,_=add_border(gt_wr)"
      ],
      "execution_count": null,
      "outputs": []
    },
    {
      "cell_type": "code",
      "metadata": {
        "id": "WwU0nukuKku_"
      },
      "source": [
        "iwr_set=split_img(in_wr)\n",
        "iwr_set=np.array(iwr_set)\n",
        "gwt_set=split_img(gt_wr)\n",
        "gwt_set=np.array(gwt_set)"
      ],
      "execution_count": null,
      "outputs": []
    },
    {
      "cell_type": "code",
      "metadata": {
        "id": "pPu-Q4MVKnfn"
      },
      "source": [
        "iwr_set=np.resize(iwr_set,(iwr_set.shape[0],1,iwr_set.shape[1],iwr_set.shape[2]))\n",
        "iwr_set=torch.tensor(iwr_set,device=device,dtype=torch.float32)"
      ],
      "execution_count": null,
      "outputs": []
    },
    {
      "cell_type": "code",
      "metadata": {
        "id": "uvOQNq5bIffD"
      },
      "source": [
        "#function to generate a binarized image, given the gray scale image\n",
        "def predict(mode,image,device):\n",
        "  #print(image.shape)\n",
        "  image,_,_=add_border(image)\n",
        "  image=image/255\n",
        " # print(image.shape)\n",
        "  H=image.shape[0]\n",
        "  W=image.shape[1]\n",
        "  \n",
        "  img_set=split_img(image)\n",
        "  img_set=np.array(img_set)\n",
        "  # print(img_set.shape)\n",
        "  img_set=np.resize(img_set,(img_set.shape[0],1,img_set.shape[1],img_set.shape[2]))\n",
        "  img_set=torch.tensor(img_set,device=device,dtype=torch.float32)\n",
        "  \n",
        "  predict=model.forward(img_set)\n",
        "  predict.to('cpu')\n",
        "  \n",
        "  r=predict.shape[0]\n",
        "  _,b=torch.max(predict.data,dim=1,keepdims=True)\n",
        "  #print(b.shape)\n",
        "  b=b.cpu()\n",
        "  predictions=[]\n",
        "  for i in range(r):\n",
        "    #print(i)\n",
        "    predictions.append(b[i][0]*255)\n",
        "  #print(H,W)\n",
        "  i=0\n",
        "  j=0\n",
        "  k=0\n",
        "  ret=np.zeros((H,W))\n",
        "  #print(ret.shape)\n",
        "  while i<H :\n",
        "    j=0\n",
        "    while j<W:\n",
        "      #print(ret[i:i+128,j:j+128].shape)\n",
        "      ret[i:i+128,j:j+128]=predictions[k]\n",
        "      #print(k)\n",
        "      k=k+1\n",
        "      j+=128\n",
        "    i+=128\n",
        "  return ret"
      ],
      "execution_count": null,
      "outputs": []
    },
    {
      "cell_type": "code",
      "metadata": {
        "colab": {
          "base_uri": "https://localhost:8080/",
          "height": 401
        },
        "id": "zb5b2kQaHweW",
        "outputId": "0b3d12fc-9381-4ee9-d66d-eb0810a1067b"
      },
      "source": [
        "#displaying a test image\n",
        "#please run this cell after loading the model weights and loading the images, you can change the value of ind variable to change images\n",
        "ind=0\n",
        "disp=predict(model,images_in[ind],device)\n",
        "cv2_imshow(disp)"
      ],
      "execution_count": null,
      "outputs": [
        {
          "output_type": "display_data",
          "data": {
            "image/png": "[encoded data removed]",
            "text/plain": [
              "<PIL.Image.Image image mode=L size=1408x384 at 0x7F91AD038208>"
            ]
          },
          "metadata": {
            "tags": []
          }
        }
      ]
    },
    {
      "cell_type": "code",
      "metadata": {
        "colab": {
          "base_uri": "https://localhost:8080/",
          "height": 709
        },
        "id": "cFZwNeh_JnLT",
        "outputId": "cea4f9a7-79c5-4f75-e7fb-0f8253ab3646"
      },
      "source": [
        "#displaying the output of the handwritten image\n",
        "r=predict(model,in_wr,device)\n",
        "cv2_imshow(255-r)\n"
      ],
      "execution_count": null,
      "outputs": [
        {
          "output_type": "display_data",
          "data": {
            "image/png": "[encoded data removed]",
            "text/plain": [
              "<PIL.Image.Image image mode=L size=640x512 at 0x7F4D569F10F0>"
            ]
          },
          "metadata": {
            "tags": []
          }
        },
        {
          "output_type": "error",
          "ename": "NameError",
          "evalue": "ignored",
          "traceback": [
            "\u001b[0;31m---------------------------------------------------------------------------\u001b[0m",
            "\u001b[0;31mNameError\u001b[0m                                 Traceback (most recent call last)",
            "\u001b[0;32m<ipython-input-17-09368e503d16>\u001b[0m in \u001b[0;36m<module>\u001b[0;34m()\u001b[0m\n\u001b[1;32m      1\u001b[0m \u001b[0mr\u001b[0m\u001b[0;34m=\u001b[0m\u001b[0mpredict\u001b[0m\u001b[0;34m(\u001b[0m\u001b[0mmodel\u001b[0m\u001b[0;34m,\u001b[0m\u001b[0min_wr\u001b[0m\u001b[0;34m,\u001b[0m\u001b[0mdevice\u001b[0m\u001b[0;34m)\u001b[0m\u001b[0;34m\u001b[0m\u001b[0;34m\u001b[0m\u001b[0m\n\u001b[1;32m      2\u001b[0m \u001b[0mcv2_imshow\u001b[0m\u001b[0;34m(\u001b[0m\u001b[0;36m255\u001b[0m\u001b[0;34m-\u001b[0m\u001b[0mr\u001b[0m\u001b[0;34m)\u001b[0m\u001b[0;34m\u001b[0m\u001b[0;34m\u001b[0m\u001b[0m\n\u001b[0;32m----> 3\u001b[0;31m \u001b[0mcv2_imshow\u001b[0m\u001b[0;34m(\u001b[0m\u001b[0mgim\u001b[0m\u001b[0;34m)\u001b[0m\u001b[0;34m\u001b[0m\u001b[0;34m\u001b[0m\u001b[0m\n\u001b[0m",
            "\u001b[0;31mNameError\u001b[0m: name 'gim' is not defined"
          ]
        }
      ]
    },
    {
      "cell_type": "code",
      "metadata": {
        "id": "uC4r-Rh0In3i"
      },
      "source": [
        "#function to calculate the accuracy , img1 is the ground truth\n",
        "def accuracy(img1,img2):\n",
        "  img1=torch.tensor(img1)\n",
        "  img2=torch.tensor(img2)\n",
        "  num=img1.eq(img2).sum().item()\n",
        "  denom=img1.shape[0]*img1.shape[1]\n",
        "  ans=num/denom\n",
        "  return ans"
      ],
      "execution_count": null,
      "outputs": []
    }
  ]
}