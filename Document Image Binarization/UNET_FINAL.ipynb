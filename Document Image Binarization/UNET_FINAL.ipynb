{
  "nbformat": 4,
  "nbformat_minor": 0,
  "metadata": {
    "accelerator": "GPU",
    "colab": {
      "name": "UNET_FINAL.ipynb",
      "provenance": [],
      "collapsed_sections": []
    },
    "kernelspec": {
      "display_name": "Python 3",
      "name": "python3"
    }
  },
  "cells": [
    {
      "cell_type": "code",
      "metadata": {
        "id": "ighUY4vF9tcP"
      },
      "source": [
        "import torch\n",
        "import torch.nn as nn\n",
        "import torch.optim as optim\n",
        "import PIL"
      ],
      "execution_count": 1,
      "outputs": []
    },
    {
      "cell_type": "code",
      "metadata": {
        "id": "qtlcPM7qGxWU"
      },
      "source": [
        "def G_noise(image,mu,sigma):\n",
        "  img=np.array(image).astype(np.int16)\n",
        "  t=np.zeros(img.shape,np.int16)\n",
        "  img=img+cv2.randn(t,mu,sigma)\n",
        "  img[img<0]=0\n",
        "  img[img>255]=255\n",
        "  img = img.astype(np.uint8)\n",
        "  #image = PIL.Image.fromarray(img)\n",
        "  image=img\n",
        "  return image\n",
        "\n"
      ],
      "execution_count": 2,
      "outputs": []
    },
    {
      "cell_type": "code",
      "metadata": {
        "id": "U-w-Hvcg-cNL"
      },
      "source": [
        "#unet Block\n",
        "def double_conv_layer(in_channels, filter):\n",
        "  return nn.Sequential(\n",
        "  nn.Conv2d(in_channels=in_channels,out_channels=filter,kernel_size=(3,3),padding=(1,1)),\n",
        "  nn.BatchNorm2d(num_features=filter),\n",
        "  nn.ReLU(inplace=True),\n",
        "  nn.Conv2d(in_channels=filter,out_channels=filter,kernel_size=(3,3),padding=(1,1)),\n",
        "  nn.BatchNorm2d(num_features=filter),\n",
        "  nn.ReLU(inplace=True),\n",
        "  nn.Dropout2d(p=0.1))\n",
        "   \n",
        "\n"
      ],
      "execution_count": 3,
      "outputs": []
    },
    {
      "cell_type": "code",
      "metadata": {
        "id": "ei5RbShbwjTX"
      },
      "source": [
        "#defining the network\n",
        "class unet(nn.Module):\n",
        "  def __init__(self):\n",
        "    super(unet,self).__init__()\n",
        "    self.d1=double_conv_layer(1,32)\n",
        "    self.p1=nn.MaxPool2d(kernel_size=2,stride=(2,2))\n",
        "    self.d2=double_conv_layer(32,64)\n",
        "   \n",
        "    self.d3=double_conv_layer(64,128)\n",
        "   \n",
        "    self.d4=double_conv_layer(128,256)\n",
        "    self.d5=double_conv_layer(256,512)    \n",
        "    self.bottle=double_conv_layer(512,1024)\n",
        "\n",
        "    self.u5=nn.ConvTranspose2d(in_channels=1024,out_channels=512,kernel_size=(2,2),stride=(2,2))\n",
        "    self.ul5=double_conv_layer(1024,512)\n",
        "    self.u4=nn.ConvTranspose2d(in_channels=512,out_channels=256,kernel_size=(2,2),stride=(2,2))\n",
        "    self.ul4=double_conv_layer(512,256)\n",
        "    self.u3=nn.ConvTranspose2d(in_channels=256,out_channels=128,kernel_size=(2,2),stride=(2,2))\n",
        "    self.ul3=double_conv_layer(256,128)\n",
        "\n",
        "    self.u2=nn.ConvTranspose2d(in_channels=128,out_channels=64,kernel_size=(2,2),stride=(2,2))\n",
        "    self.ul2=double_conv_layer(128,64)\n",
        "\n",
        "    self.u1=nn.ConvTranspose2d(in_channels=64,out_channels=32,kernel_size=(2,2),stride=(2,2))\n",
        "    self.ul1=double_conv_layer(64,32)\n",
        "    \n",
        "    self.ol=nn.Conv2d(in_channels=32,out_channels=2,kernel_size=(1,1))\n",
        "\n",
        "    self.sig=nn.Sigmoid()\n",
        "  def forward(self,X):\n",
        "    down1=self.d1(X)\n",
        "    #print(down1.shape)\n",
        "    pool1=self.p1(down1)\n",
        "    \n",
        "    down2=self.d2(pool1)\n",
        "    pool2=self.p1(down2)\n",
        "    \n",
        "    down3=self.d3(pool2)\n",
        "    pool3=self.p1(down3)\n",
        "\n",
        "    down4=self.d4(pool3)\n",
        "    pool4=self.p1(down4)\n",
        "    \n",
        "    #print(pool4.shape)\n",
        "    down5=self.d5(pool4)\n",
        "    pool5=self.p1(down5)\n",
        "    \n",
        "    bottleneck=self.bottle(pool5)\n",
        "    \n",
        "    up5=self.u5(bottleneck)\n",
        "    up5=torch.cat([up5,down5],dim=1)\n",
        "    up5=self.ul5(up5)\n",
        "    \n",
        "    up4=self.u4(up5)\n",
        "    up4=torch.cat([up4,down4],dim=1)\n",
        "    up4=self.ul4(up4)\n",
        "    \n",
        "    up3=self.u3(up4)\n",
        "    up3=torch.cat([up3,down3],dim=1)\n",
        "    up3=self.ul3(up3)\n",
        "\n",
        "    up2=self.u2(up3)\n",
        "    up2=torch.cat([up2,down2],dim=1)\n",
        "    up2=self.ul2(up2)\n",
        "    \n",
        "    up1=self.u1(up2)\n",
        "    up1=torch.cat([up1,down1],dim=1)\n",
        "    up1=self.ul1(up1)\n",
        "    \n",
        "    out=self.ol(up1)\n",
        "    \n",
        "    out=self.sig(out)\n",
        "    \n",
        "    return out"
      ],
      "execution_count": 16,
      "outputs": []
    },
    {
      "cell_type": "code",
      "metadata": {
        "id": "IsiOlLiwBN7W"
      },
      "source": [
        "model=unet()"
      ],
      "execution_count": 5,
      "outputs": []
    },
    {
      "cell_type": "code",
      "metadata": {
        "id": "g8e3WIVaBQIq"
      },
      "source": [
        "x=torch.randn((1,1,128,128))\n",
        "x=model(x)\n",
        "print(x)"
      ],
      "execution_count": null,
      "outputs": []
    },
    {
      "cell_type": "code",
      "metadata": {
        "id": "zx3NrHXAw7YG"
      },
      "source": [
        "#getting the important libraries\n",
        "import numpy as np\n",
        "import os\n",
        "import cv2\n",
        "import glob\n",
        "import random\n",
        "from google.colab.patches import cv2_imshow"
      ],
      "execution_count": 6,
      "outputs": []
    },
    {
      "cell_type": "code",
      "metadata": {
        "colab": {
          "base_uri": "https://localhost:8080/"
        },
        "id": "wXmOPCtrBher",
        "outputId": "1fe9df43-f471-4e1e-ee12-672c355592f4"
      },
      "source": [
        "from google.colab import drive\n",
        "drive.mount('/content/drive')"
      ],
      "execution_count": 7,
      "outputs": [
        {
          "output_type": "stream",
          "text": [
            "Mounted at /content/drive\n"
          ],
          "name": "stdout"
        }
      ]
    },
    {
      "cell_type": "code",
      "metadata": {
        "id": "odKQ0H3Twtpg"
      },
      "source": [
        "#adding border\n",
        "def add_border(img: np.array, size_x: int = 128, size_y: int = 128) -> (np.array, int, int):\n",
        "    \"\"\"Add border to image, so it will divide window sizes: size_x and size_y\"\"\"\n",
        "    max_y, max_x = img.shape[:2]\n",
        "    border_y = 0\n",
        "    if max_y % size_y != 0:\n",
        "        a = (size_y - (max_y % size_y) + 1)\n",
        "       # print('a=',a)\n",
        "        l=0\n",
        "        r=0\n",
        "        if a%2!=0:\n",
        "          l=a//2\n",
        "          r=a//2\n",
        "        else:\n",
        "          l=a//2\n",
        "          r=(a//2)-1\n",
        "        #print(l,r)\n",
        "        img = cv2.copyMakeBorder(img, l, r, 0, 0, cv2.BORDER_CONSTANT, value=[255, 255, 255])\n",
        "        \n",
        "    border_x = 0\n",
        "    if max_x % size_x != 0:\n",
        "        a = (size_x - (max_x % size_x) + 1)\n",
        "        l=0\n",
        "        r=0\n",
        "        if a%2!=0:\n",
        "          l=a//2\n",
        "          r=a//2\n",
        "        else:\n",
        "          l=a//2\n",
        "          r=(a//2)-1\n",
        "        #print(l,r)\n",
        "        img = cv2.copyMakeBorder(img, 0, 0, l, r, cv2.BORDER_CONSTANT, value=[255, 255, 255])\n",
        "    return img, border_y, border_x\n",
        "\n",
        "\n",
        "    #preprocessing\n",
        "def split_img(img: np.array, size_x: int = 128, size_y: int = 128 )-> [np.array]:\n",
        "    \"\"\"Split image to parts (little images).\n",
        "    Walk through the whole image by the window of size size_x * size_y without overlays and\n",
        "    save all parts in list. Images sizes should divide window sizes.\n",
        "    \"\"\"\n",
        "    max_y, max_x = img.shape[:2]\n",
        "    parts = []\n",
        "    curr_y = 0\n",
        "    # TODO: rewrite with generators.\n",
        "    while (curr_y + size_y) <= max_y:\n",
        "        curr_x = 0\n",
        "        while (curr_x + size_x) <= max_x:\n",
        "            parts.append(img[curr_y:curr_y + size_y, curr_x:curr_x + size_x])\n",
        "            curr_x += size_x\n",
        "        curr_y += size_y\n",
        "    return parts"
      ],
      "execution_count": 8,
      "outputs": []
    },
    {
      "cell_type": "code",
      "metadata": {
        "colab": {
          "base_uri": "https://localhost:8080/"
        },
        "id": "4jSmq6XGxTI-",
        "outputId": "6d5964fc-518b-43fd-86c4-d5881552ccfe"
      },
      "source": [
        "# getting the images from drive for training\n",
        "\n",
        "get_printed=glob.glob('/content/drive/MyDrive/Siddharth-Binarization/dataset_DIBCO/*')\n",
        "print(len(get_printed))\n",
        "\n",
        "images_in=[]\n",
        "images_gt=[]\n",
        "for paths in get_printed:\n",
        "  n=len(glob.glob(paths+\"/*_in.png\"))\n",
        "  for i in range(1,n+1):\n",
        "    if (i<10):\n",
        "      f_name_in=os.path.join(paths,\"0\"+str(i)+\"_in.png\")\n",
        "      f_name_gt=os.path.join(paths,\"0\"+str(i)+\"_gt.png\")\n",
        "    else :\n",
        "      f_name_in=os.path.join(paths,str(i)+\"_in.png\")\n",
        "      f_name_gt=os.path.join(paths,str(i)+\"_gt.png\")\n",
        "\n",
        "    images_in.append(cv2.imread(f_name_in,cv2.IMREAD_GRAYSCALE))\n",
        "    images_gt.append(cv2.imread(f_name_gt,cv2.IMREAD_GRAYSCALE))"
      ],
      "execution_count": 9,
      "outputs": [
        {
          "output_type": "stream",
          "text": [
            "4\n"
          ],
          "name": "stdout"
        }
      ]
    },
    {
      "cell_type": "code",
      "metadata": {
        "id": "Vxfrj2VsD57d"
      },
      "source": [
        "def transform(image):\n",
        "  mu=random.randint(0,15)\n",
        "  sigma=random.randint(30,90)\n",
        "  a=G_noise(image,mu,sigma)\n",
        "  \n",
        "  return a\n",
        "  "
      ],
      "execution_count": 10,
      "outputs": []
    },
    {
      "cell_type": "code",
      "metadata": {
        "colab": {
          "base_uri": "https://localhost:8080/"
        },
        "id": "nRByrgADR7Ww",
        "outputId": "bb3e90ef-dd1d-4f01-e5f1-678e06f111e2"
      },
      "source": [
        "size=len(images_in)\n",
        "for i in range(size):\n",
        "  a=transform(images_in[i])\n",
        "  images_in.append(a)\n",
        "  images_gt.append(images_gt[i])\n",
        "print(len(images_in))"
      ],
      "execution_count": 11,
      "outputs": [
        {
          "output_type": "stream",
          "text": [
            "62\n"
          ],
          "name": "stdout"
        }
      ]
    },
    {
      "cell_type": "code",
      "metadata": {
        "id": "7ToCQyUiUkxX"
      },
      "source": [
        ""
      ],
      "execution_count": null,
      "outputs": []
    },
    {
      "cell_type": "code",
      "metadata": {
        "colab": {
          "base_uri": "https://localhost:8080/"
        },
        "id": "bX0ZjxiExZNP",
        "outputId": "6ac06ed2-4a30-4e6a-839a-2570a95d5032"
      },
      "source": [
        "#splitting the images into 128X128 images for training\n",
        "images_in=np.array(images_in)\n",
        "images_gt=np.array(images_gt)\n",
        "print(images_gt.shape)\n",
        "\n",
        "in_set=[]\n",
        "gt_set=[]\n",
        "n=images_in.shape[0]\n",
        "for i in range(n):\n",
        "  img_in,_,_=add_border(images_in[i])\n",
        "  img_gt,_,_=add_border(images_gt[i])\n",
        "  parts1=split_img(img_in)\n",
        "  parts2=split_img(img_gt)\n",
        "  for img in parts1:\n",
        "    in_set.append(img)\n",
        "  for img in parts2:\n",
        "    gt_set.append(img)"
      ],
      "execution_count": 12,
      "outputs": [
        {
          "output_type": "stream",
          "text": [
            "(62,)\n"
          ],
          "name": "stdout"
        },
        {
          "output_type": "stream",
          "text": [
            "/usr/local/lib/python3.7/dist-packages/ipykernel_launcher.py:2: VisibleDeprecationWarning: Creating an ndarray from ragged nested sequences (which is a list-or-tuple of lists-or-tuples-or ndarrays with different lengths or shapes) is deprecated. If you meant to do this, you must specify 'dtype=object' when creating the ndarray\n",
            "  \n",
            "/usr/local/lib/python3.7/dist-packages/ipykernel_launcher.py:3: VisibleDeprecationWarning: Creating an ndarray from ragged nested sequences (which is a list-or-tuple of lists-or-tuples-or ndarrays with different lengths or shapes) is deprecated. If you meant to do this, you must specify 'dtype=object' when creating the ndarray\n",
            "  This is separate from the ipykernel package so we can avoid doing imports until\n"
          ],
          "name": "stderr"
        }
      ]
    },
    {
      "cell_type": "code",
      "metadata": {
        "colab": {
          "base_uri": "https://localhost:8080/"
        },
        "id": "znv-PtdDM4ye",
        "outputId": "9a13ec19-8c68-44dc-e08e-27ff141dcd47"
      },
      "source": [
        "cd drive/My Drive"
      ],
      "execution_count": null,
      "outputs": [
        {
          "output_type": "stream",
          "text": [
            "/content/drive/My Drive\n"
          ],
          "name": "stdout"
        }
      ]
    },
    {
      "cell_type": "code",
      "metadata": {
        "id": "ijs8tSU9APeJ"
      },
      "source": [
        "#this cell \n",
        "\n",
        "'''print(images_gt[1].shape)\n",
        "disp=255-predict(model,images_in[1],device)\n",
        "\n",
        "#cv2.imwrite(\"I1.tiff\",disp)\\\n",
        "#disp.resize(images_in[1].shape)\n",
        "\n",
        "X=disp[6:377,50:1230]\n",
        "cv2.imwrite(\"Ia.png\",X,[cv2.IMWRITE_PNG_BILEVEL, 1])\n",
        "print(X.shape)\n",
        "cv2_imshow(images_in[1])\n",
        "cv2_imshow(X)'''"
      ],
      "execution_count": null,
      "outputs": []
    },
    {
      "cell_type": "code",
      "metadata": {
        "colab": {
          "base_uri": "https://localhost:8080/"
        },
        "id": "q5LLGXlrx66a",
        "outputId": "437b8548-1732-440f-8939-74aac9f382b3"
      },
      "source": [
        "# resizing the tensor to pytorch format for training in pytorch\n",
        "in_set=np.array(in_set)\n",
        "gt_set=np.array(gt_set)\n",
        "\n",
        "\n",
        "num_samples=in_set.shape[0]\n",
        "in_set.resize((num_samples,1,128,128))\n",
        "gt_set.resize((num_samples,1,128,128))\n",
        "print(in_set.shape)"
      ],
      "execution_count": 13,
      "outputs": [
        {
          "output_type": "stream",
          "text": [
            "(4242, 1, 128, 128)\n"
          ],
          "name": "stdout"
        }
      ]
    },
    {
      "cell_type": "code",
      "metadata": {
        "colab": {
          "base_uri": "https://localhost:8080/"
        },
        "id": "nZ_dTw3HyD3z",
        "outputId": "72c7b756-0567-449a-8d30-b67725ecce2d"
      },
      "source": [
        "# transferring the modle to the GPU\n",
        "print(gt_set.shape)\n",
        "device=torch.device(\"cuda\" if torch.cuda.is_available() else \"cpu\")\n",
        "print(device)\n",
        "model=model.to(device)"
      ],
      "execution_count": 32,
      "outputs": [
        {
          "output_type": "stream",
          "text": [
            "(4242, 1, 128, 128)\n",
            "cuda\n"
          ],
          "name": "stdout"
        }
      ]
    },
    {
      "cell_type": "code",
      "metadata": {
        "id": "nwErPtPwySRM"
      },
      "source": [
        "#function to invert the images\n",
        "def invert(gt_set):\n",
        "  for i,im in enumerate(gt_set):\n",
        "    #print(i)\n",
        "    gt_set[i]=255-gt_set[i]\n",
        "  return gt_set"
      ],
      "execution_count": null,
      "outputs": []
    },
    {
      "cell_type": "code",
      "metadata": {
        "colab": {
          "base_uri": "https://localhost:8080/",
          "height": 145
        },
        "id": "v4Gj5EwiyWCS",
        "outputId": "97b42655-e394-4c94-bea6-a6ad673e1ffe"
      },
      "source": [
        "#inverting the ground truth images\n",
        "gt_set=invert(gt_set)\n",
        "cv2_imshow(gt_set[0][0])"
      ],
      "execution_count": null,
      "outputs": [
        {
          "output_type": "display_data",
          "data": {
            "image/png": "[encoded data removed]",
            "text/plain": [
              "<PIL.Image.Image image mode=L size=128x128 at 0x7F73D31E7D30>"
            ]
          },
          "metadata": {
            "tags": []
          }
        }
      ]
    },
    {
      "cell_type": "code",
      "metadata": {
        "id": "2Z7T5PJZyYZl"
      },
      "source": [
        "#normalizing the pixel valuse\n",
        "in_set=in_set/255\n",
        "gt_set=gt_set/255"
      ],
      "execution_count": null,
      "outputs": []
    },
    {
      "cell_type": "code",
      "metadata": {
        "id": "HL2OdIiK53Bh"
      },
      "source": [
        "#getting the test set\n",
        "in_test=in_set[4142:4242]\n",
        "gt_test=gt_set[4142:4242]\n",
        "in_set=in_set[0:4142]\n",
        "gt_set=gt_set[0:4142]"
      ],
      "execution_count": null,
      "outputs": []
    },
    {
      "cell_type": "code",
      "metadata": {
        "id": "hAiYuXCI54r3"
      },
      "source": [
        "#transferring all the tensors to the gpu\n",
        "in_test=torch.tensor(in_test,device=device,dtype=torch.float32)\n",
        "gt_test=torch.tensor(gt_test,device=device,dtype=torch.float32)\n",
        "in_set=torch.tensor(in_set,device=device,dtype=torch.float32)\n",
        "gt_set=torch.tensor(gt_set,device=device,dtype=torch.float32)"
      ],
      "execution_count": null,
      "outputs": []
    },
    {
      "cell_type": "code",
      "metadata": {
        "id": "TYx_uLW6yyfX"
      },
      "source": [
        "#preparation for training\n",
        "lr=0.001  #learning rate\n",
        "batch_size=32\n",
        "\n",
        "loss_func=nn.BCELoss()\n",
        "opti=optim.Adam(model.parameters(),lr=lr)"
      ],
      "execution_count": null,
      "outputs": []
    },
    {
      "cell_type": "code",
      "metadata": {
        "colab": {
          "base_uri": "https://localhost:8080/"
        },
        "id": "sbJB6_zWzLAB",
        "outputId": "5d72d6b5-9c69-42c4-834e-dd04c9cea042"
      },
      "source": [
        "#generating a single batch for the model to overfit for checking the correctness\n",
        "'''ints=in_set[0:32].to(device=device)\n",
        "gtts=gt_set[0:32].to(device=device)\n",
        "print(ints.shape)'''"
      ],
      "execution_count": null,
      "outputs": [
        {
          "output_type": "stream",
          "text": [
            "torch.Size([32, 1, 128, 128])\n"
          ],
          "name": "stdout"
        }
      ]
    },
    {
      "cell_type": "code",
      "metadata": {
        "id": "ZFOW0nu9z5KC"
      },
      "source": [
        "#over fitting the batch\n",
        "'''\n",
        "for i in range(500):\n",
        "  scores=model(ints)\n",
        "  target=gtts\n",
        "  l=loss_func(scores,target)\n",
        "  opti.zero_grad()\n",
        "  #print(i)\n",
        "  l.backward()\n",
        "  opti.step()\n",
        "\n",
        "  if i%20 is 0:\n",
        "    print(l.item())'''"
      ],
      "execution_count": null,
      "outputs": []
    },
    {
      "cell_type": "code",
      "metadata": {
        "id": "1RpBvdLihAFn",
        "colab": {
          "base_uri": "https://localhost:8080/"
        },
        "outputId": "141f911b-d19f-49dc-a5f3-ceeb839daf1c"
      },
      "source": [
        "#training the model for num_epochs\n",
        "num_epochs=5\n",
        "for epoch in range(num_epochs):\n",
        "  #perm=torch.randperm(in_set.size()[0])\n",
        "  #perm=perm-1\n",
        "  n=in_set.size()[0]\n",
        "  print(epoch)\n",
        "  for i in range(0,n,batch_size):\n",
        "    opti.zero_grad()\n",
        "    #indices=perm[i:i+batch_size]\n",
        "    \n",
        "    X=in_set[i:i+batch_size]\n",
        "   \n",
        "    scores=model.forward(X)\n",
        "    loss=loss_func(scores,gt_set[i:i+batch_size])\n",
        "\n",
        "    loss.backward()\n",
        "    opti.step()\n",
        "\n",
        "    if i%1024 is 0:\n",
        "      print(loss.item())"
      ],
      "execution_count": null,
      "outputs": [
        {
          "output_type": "stream",
          "text": [
            "0\n",
            "0.6273789405822754\n",
            "0.31137943267822266\n",
            "0.20434992015361786\n",
            "0.18751952052116394\n",
            "0.155701145529747\n",
            "1\n",
            "0.14516328275203705\n",
            "0.10204187035560608\n",
            "0.08148345351219177\n",
            "0.15032348036766052\n",
            "0.1376013308763504\n",
            "2\n",
            "0.12787029147148132\n",
            "0.05742833763360977\n",
            "0.060791850090026855\n",
            "0.15304923057556152\n",
            "0.11485700309276581\n",
            "3\n",
            "0.11967574805021286\n",
            "0.0478079691529274\n",
            "0.049573864787817\n",
            "0.16585104167461395\n",
            "0.10669632256031036\n",
            "4\n",
            "0.10314421355724335\n",
            "0.038274627178907394\n",
            "0.04309319704771042\n",
            "0.1526627242565155\n",
            "0.10299719870090485\n"
          ],
          "name": "stdout"
        }
      ]
    },
    {
      "cell_type": "code",
      "metadata": {
        "id": "4-Ho-awIKgXc",
        "colab": {
          "base_uri": "https://localhost:8080/"
        },
        "outputId": "9442d4c3-120b-4f0b-a1a2-a3c98ad92f81"
      },
      "source": [
        "#checking accuracy\n",
        "# x=model.forward(in_test[0:32])\n",
        "# a,b=torch.max(x.data,dim=1,keepdims=True)\n",
        "# sz=b.shape[0]\n",
        "# num=0\n",
        "# for i in range(sz):\n",
        "#   num=num+b[i][0].eq(gt_test[i]).sum().item()\n",
        "# denom=sz*128*128\n",
        "# print(num/denom)\n",
        "x=model.forward(in_test[0:1])\n",
        "a=x.cpu().detach().numpy()\n",
        "\n"
      ],
      "execution_count": null,
      "outputs": [
        {
          "output_type": "stream",
          "text": [
            "tensor([[2.7285, 1.3686, 1.6863,  ..., 1.1018, 1.9161, 1.6857],\n",
            "        [1.2197, 0.7489, 0.3837,  ..., 0.5416, 0.4182, 1.6031],\n",
            "        [1.5177, 0.3051, 0.4292,  ..., 0.2515, 0.5164, 0.7147],\n",
            "        ...,\n",
            "        [0.7791, 0.4422, 0.2300,  ..., 0.3470, 0.2399, 1.0672],\n",
            "        [1.6614, 0.3780, 0.4181,  ..., 0.2501, 0.5095, 0.8314],\n",
            "        [1.8986, 1.5215, 0.7455,  ..., 1.0554, 0.9757, 2.1112]],\n",
            "       device='cuda:0', grad_fn=<MulBackward0>)\n"
          ],
          "name": "stdout"
        }
      ]
    },
    {
      "cell_type": "code",
      "metadata": {
        "colab": {
          "base_uri": "https://localhost:8080/"
        },
        "id": "wLA8gc5vs7XS",
        "outputId": "fbd9fac6-007b-4004-caef-341a8b4ca9a5"
      },
      "source": [
        "ls"
      ],
      "execution_count": null,
      "outputs": [
        {
          "output_type": "stream",
          "text": [
            "Comments.gdoc   model_10eps.pt        model_deconv.pt   UNET_FINAL.ipynb\n",
            "\u001b[0m\u001b[01;34mdataset_DIBCO\u001b[0m/  model_5eps.pt         model.pt\n",
            "\u001b[01;34mhand_written\u001b[0m/   model_deconv_5eps.pt  report_FINAL.pdf\n"
          ],
          "name": "stdout"
        }
      ]
    },
    {
      "cell_type": "code",
      "metadata": {
        "id": "DeGlYMmtA9OS"
      },
      "source": [
        "#saving the model weights after training\n",
        "torch.save(model.state_dict(),'/content/drive/My Drive/Siddharth-Binarization/model_5eps_DA_GA.pt')"
      ],
      "execution_count": null,
      "outputs": []
    },
    {
      "cell_type": "code",
      "metadata": {
        "id": "tQzYvg7_DMKP",
        "colab": {
          "base_uri": "https://localhost:8080/"
        },
        "outputId": "a4f2adf2-4e5d-42c2-fac4-aedf40e0d2fa"
      },
      "source": [
        "# loading the weights\n",
        "m1=torch.load('/content/drive/My Drive/Siddharth-Binarization/model_10eps.pt')\n",
        "model=unet()\n",
        "model.load_state_dict(m1)"
      ],
      "execution_count": 31,
      "outputs": [
        {
          "output_type": "execute_result",
          "data": {
            "text/plain": [
              "<All keys matched successfully>"
            ]
          },
          "metadata": {},
          "execution_count": 31
        }
      ]
    },
    {
      "cell_type": "code",
      "metadata": {
        "colab": {
          "base_uri": "https://localhost:8080/"
        },
        "id": "CwxkH53uSLzG",
        "outputId": "989aff64-7e06-4ddc-913d-504123aaef3e"
      },
      "source": [
        "get_hr=glob.glob('/content/drive/My Drive/Siddharth-Binarization/hand_written/*')\n",
        "print(get_hr)"
      ],
      "execution_count": 18,
      "outputs": [
        {
          "output_type": "stream",
          "text": [
            "['/content/drive/My Drive/Siddharth-Binarization/hand_written/03_in.png', '/content/drive/My Drive/Siddharth-Binarization/hand_written/03_gt.png']\n"
          ],
          "name": "stdout"
        }
      ]
    },
    {
      "cell_type": "code",
      "metadata": {
        "id": "HoJWDIF7Kaq3"
      },
      "source": [
        "#getting the handwritten image\n",
        "in_wr=cv2.imread(get_hr[0],cv2.IMREAD_GRAYSCALE)\n",
        "gt_wr=cv2.imread(get_hr[1],cv2.IMREAD_GRAYSCALE)\n",
        "in_wr=np.array(in_wr)\n",
        "gt_wr=np.array(gt_wr)"
      ],
      "execution_count": 19,
      "outputs": []
    },
    {
      "cell_type": "code",
      "metadata": {
        "id": "jupYDL7cKhlh"
      },
      "source": [
        "in_wr,_,_=add_border(in_wr)\n",
        "gt_wr,_,_=add_border(gt_wr)"
      ],
      "execution_count": 20,
      "outputs": []
    },
    {
      "cell_type": "code",
      "metadata": {
        "id": "WwU0nukuKku_"
      },
      "source": [
        "iwr_set=split_img(in_wr)\n",
        "iwr_set=np.array(iwr_set)\n",
        "gwt_set=split_img(gt_wr)\n",
        "gwt_set=np.array(gwt_set)"
      ],
      "execution_count": 24,
      "outputs": []
    },
    {
      "cell_type": "code",
      "metadata": {
        "id": "pPu-Q4MVKnfn"
      },
      "source": [
        "iwr_set=np.resize(iwr_set,(iwr_set.shape[0],1,iwr_set.shape[1],iwr_set.shape[2]))\n",
        "iwr_set=torch.tensor(iwr_set,device=device,dtype=torch.float32)"
      ],
      "execution_count": 25,
      "outputs": []
    },
    {
      "cell_type": "code",
      "metadata": {
        "id": "uvOQNq5bIffD"
      },
      "source": [
        "#function to generate a binarized image, given the gray scale image\n",
        "def predict(mode,image,device):\n",
        "  #print(image.shape)\n",
        "  image,_,_=add_border(image)\n",
        "  image=image/255\n",
        " # print(image.shape)\n",
        "  H=image.shape[0]\n",
        "  W=image.shape[1]\n",
        "  \n",
        "  img_set=split_img(image)\n",
        "  img_set=np.array(img_set)\n",
        "  # print(img_set.shape)\n",
        "  img_set=np.resize(img_set,(img_set.shape[0],1,img_set.shape[1],img_set.shape[2]))\n",
        "  img_set=torch.tensor(img_set,device=device,dtype=torch.float32)\n",
        "  \n",
        "  predict=model.forward(img_set)\n",
        "  predict.to('cpu')\n",
        "  \n",
        "  r=predict.shape[0]\n",
        "  _,b=torch.max(predict.data,dim=1,keepdims=True)\n",
        "  #print(b.shape)\n",
        "  b=b.cpu()\n",
        "  predictions=[]\n",
        "  for i in range(r):\n",
        "    #print(i)\n",
        "    predictions.append(b[i][0]*255)\n",
        "  #print(H,W)\n",
        "  i=0\n",
        "  j=0\n",
        "  k=0\n",
        "  ret=np.zeros((H,W))\n",
        "  #print(ret.shape)\n",
        "  while i<H :\n",
        "    j=0\n",
        "    while j<W:\n",
        "      #print(ret[i:i+128,j:j+128].shape)\n",
        "      ret[i:i+128,j:j+128]=predictions[k]\n",
        "      #print(k)\n",
        "      k=k+1\n",
        "      j+=128\n",
        "    i+=128\n",
        "  return ret"
      ],
      "execution_count": 26,
      "outputs": []
    },
    {
      "cell_type": "code",
      "metadata": {
        "id": "zb5b2kQaHweW",
        "colab": {
          "base_uri": "https://localhost:8080/",
          "height": 401
        },
        "outputId": "a893e79f-4b2f-4b16-ffb2-444cf15df890"
      },
      "source": [
        "#displaying a test image\n",
        "#please run this cell after loading the model weights and loading the images, you can change the value of ind variable to change images\n",
        "ind=1\n",
        "disp=255-predict(model,images_in[ind],device)\n",
        "cv2_imshow(disp)"
      ],
      "execution_count": 37,
      "outputs": [
        {
          "output_type": "display_data",
          "data": {
            "image/png": "[encoded data removed]",
            "text/plain": [
              "<PIL.Image.Image image mode=L size=1280x384 at 0x7FD1FAAB98D0>"
            ]
          },
          "metadata": {}
        }
      ]
    },
    {
      "cell_type": "code",
      "metadata": {
        "colab": {
          "base_uri": "https://localhost:8080/",
          "height": 529
        },
        "id": "cFZwNeh_JnLT",
        "outputId": "6929ece3-a39d-49b8-cef5-b1902c6fa666"
      },
      "source": [
        "#displaying the output of the handwritten image\n",
        "r=predict(model,in_wr,device)\n",
        "cv2_imshow(255-r)\n"
      ],
      "execution_count": 30,
      "outputs": [
        {
          "output_type": "display_data",
          "data": {
            "image/png": "[encoded data removed]",
            "text/plain": [
              "<PIL.Image.Image image mode=L size=640x512 at 0x7FD1FAB96B90>"
            ]
          },
          "metadata": {}
        }
      ]
    },
    {
      "cell_type": "code",
      "metadata": {
        "id": "uC4r-Rh0In3i"
      },
      "source": [
        "#function to calculate the accuracy , img1 is the ground truth\n",
        "def accuracy(img1,img2):\n",
        "  img1=torch.tensor(img1)\n",
        "  img2=torch.tensor(img2)\n",
        "  num=img1.eq(img2).sum().item()\n",
        "  denom=img1.shape[0]*img1.shape[1]\n",
        "  ans=num/denom\n",
        "  return ans"
      ],
      "execution_count": null,
      "outputs": []
    },
    {
      "cell_type": "code",
      "metadata": {
        "id": "AvUNHSxZUeVw",
        "colab": {
          "base_uri": "https://localhost:8080/"
        },
        "outputId": "3b651bbe-a375-4fff-df6a-85a5ce2cd8f3"
      },
      "source": [
        "ind=31\n",
        "disp=255-predict(model,images_in[ind],device)\n",
        "tar,_,_=add_border(images_gt[ind%31])\n",
        "print(accuracy(disp,tar))"
      ],
      "execution_count": null,
      "outputs": [
        {
          "output_type": "stream",
          "text": [
            "0.9499881628787878\n"
          ],
          "name": "stdout"
        }
      ]
    },
    {
      "cell_type": "code",
      "metadata": {
        "id": "ZAwdov_JueY-"
      },
      "source": [
        ""
      ],
      "execution_count": null,
      "outputs": []
    }
  ]
}