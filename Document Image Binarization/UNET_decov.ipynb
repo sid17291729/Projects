{
  "nbformat": 4,
  "nbformat_minor": 0,
  "metadata": {
    "colab": {
      "name": "UNET_decov.ipynb",
      "provenance": [],
      "collapsed_sections": []
    },
    "kernelspec": {
      "name": "python3",
      "display_name": "Python 3"
    },
    "accelerator": "GPU"
  },
  "cells": [
    {
      "cell_type": "code",
      "metadata": {
        "id": "h2bOKqhAS7Rq"
      },
      "source": [
        "import torch\n",
        "import torch.nn as nn\n",
        "import torch.optim as optim\n",
        "import random"
      ],
      "execution_count": 1,
      "outputs": []
    },
    {
      "cell_type": "code",
      "metadata": {
        "id": "vqn9A_mJTBiA"
      },
      "source": [
        "#please run this cell, it installs MMCV which is required to use deformable convolutions. This takes around 10 mins to complete installation\n",
        "!pip install mmcv-full\n"
      ],
      "execution_count": null,
      "outputs": []
    },
    {
      "cell_type": "code",
      "metadata": {
        "id": "vO5IQ0vrThHE"
      },
      "source": [
        "from mmcv.ops import DeformConv2dPack"
      ],
      "execution_count": 3,
      "outputs": []
    },
    {
      "cell_type": "code",
      "metadata": {
        "id": "9b0k_geL-_OZ"
      },
      "source": [
        "def G_noise(image,mu,sigma):\n",
        "  img=np.array(image).astype(np.int16)\n",
        "  t=np.zeros(img.shape,np.int16)\n",
        "  img=img+cv2.randn(t,mu,sigma)\n",
        "  img[img<0]=0\n",
        "  img[img>255]=255\n",
        "  img = img.astype(np.uint8)\n",
        "  #image = PIL.Image.fromarray(img)\n",
        "  image=img\n",
        "  return image\n",
        "\n",
        "def transform(image):\n",
        "  mu=random.randint(0,15)\n",
        "  sigma=random.randint(30,90)\n",
        "  a=G_noise(image,mu,sigma)\n",
        "  \n",
        "  return a"
      ],
      "execution_count": 4,
      "outputs": []
    },
    {
      "cell_type": "code",
      "metadata": {
        "id": "fWMhx8KTVLIh"
      },
      "source": [
        "#unet Block\n",
        "def double_conv_layer(in_channels, filter):\n",
        "  return nn.Sequential(\n",
        "  DeformConv2dPack(in_channels=in_channels,out_channels=filter,kernel_size=(3,3),padding=(1,1)),\n",
        "  nn.BatchNorm2d(num_features=filter),\n",
        "  nn.ReLU(inplace=True),\n",
        "  DeformConv2dPack(in_channels=filter,out_channels=filter,kernel_size=(3,3),padding=(1,1)),\n",
        "  nn.BatchNorm2d(num_features=filter),\n",
        "  nn.ReLU(inplace=True),\n",
        "  nn.Dropout2d(p=0.1))\n",
        "\n",
        "  "
      ],
      "execution_count": 5,
      "outputs": []
    },
    {
      "cell_type": "code",
      "metadata": {
        "id": "Wa69KTmU_bZM"
      },
      "source": [
        "#defining the network\n",
        "class unet(nn.Module):\n",
        "  def __init__(self):\n",
        "    super(unet,self).__init__()\n",
        "    self.d1=double_conv_layer(1,32)\n",
        "    self.p1=nn.MaxPool2d(kernel_size=2,stride=(2,2))\n",
        "    self.d2=double_conv_layer(32,64)\n",
        "   \n",
        "    self.d3=double_conv_layer(64,128)\n",
        "   \n",
        "    self.d4=double_conv_layer(128,256)\n",
        "    self.d5=double_conv_layer(256,512)    \n",
        "    self.bottle=double_conv_layer(512,1024)\n",
        "\n",
        "    self.u5=nn.ConvTranspose2d(in_channels=1024,out_channels=512,kernel_size=(2,2),stride=(2,2))\n",
        "    self.ul5=double_conv_layer(1024,512)\n",
        "    self.u4=nn.ConvTranspose2d(in_channels=512,out_channels=256,kernel_size=(2,2),stride=(2,2))\n",
        "    self.ul4=double_conv_layer(512,256)\n",
        "    self.u3=nn.ConvTranspose2d(in_channels=256,out_channels=128,kernel_size=(2,2),stride=(2,2))\n",
        "    self.ul3=double_conv_layer(256,128)\n",
        "\n",
        "    self.u2=nn.ConvTranspose2d(in_channels=128,out_channels=64,kernel_size=(2,2),stride=(2,2))\n",
        "    self.ul2=double_conv_layer(128,64)\n",
        "\n",
        "    self.u1=nn.ConvTranspose2d(in_channels=64,out_channels=32,kernel_size=(2,2),stride=(2,2))\n",
        "    self.ul1=double_conv_layer(64,32)\n",
        "    \n",
        "    self.ol=nn.Conv2d(in_channels=32,out_channels=2,kernel_size=(1,1))\n",
        "\n",
        "    self.sig=nn.Sigmoid()\n",
        "  def forward(self,X):\n",
        "    down1=self.d1(X)\n",
        "    pool1=self.p1(down1)\n",
        "    \n",
        "    down2=self.d2(pool1)\n",
        "    pool2=self.p1(down2)\n",
        "    \n",
        "    down3=self.d3(pool2)\n",
        "    pool3=self.p1(down3)\n",
        "\n",
        "    down4=self.d4(pool3)\n",
        "    #print(down4.shape)\n",
        "    pool4=self.p1(down4)\n",
        "    \n",
        "    down5=self.d5(pool4)\n",
        "    pool5=self.p1(down5)\n",
        "    \n",
        "    bottleneck=self.bottle(pool5)\n",
        "    \n",
        "    up5=self.u5(bottleneck)\n",
        "    up5=torch.cat([up5,down5],dim=1)\n",
        "    up5=self.ul5(up5)\n",
        "    \n",
        "    up4=self.u4(up5)\n",
        "    up4=torch.cat([up4,down4],dim=1)\n",
        "    up4=self.ul4(up4)\n",
        "    \n",
        "    up3=self.u3(up4)\n",
        "    up3=torch.cat([up3,down3],dim=1)\n",
        "    up3=self.ul3(up3)\n",
        "\n",
        "    up2=self.u2(up3)\n",
        "    up2=torch.cat([up2,down2],dim=1)\n",
        "    up2=self.ul2(up2)\n",
        "    \n",
        "    up1=self.u1(up2)\n",
        "    up1=torch.cat([up1,down1],dim=1)\n",
        "    up1=self.ul1(up1)\n",
        "    \n",
        "    out=self.ol(up1)\n",
        "    \n",
        "    out=self.sig(out)\n",
        "    \n",
        "    return out"
      ],
      "execution_count": 6,
      "outputs": []
    },
    {
      "cell_type": "code",
      "metadata": {
        "id": "q-9-WOdR_g_e"
      },
      "source": [
        "model=unet()"
      ],
      "execution_count": 7,
      "outputs": []
    },
    {
      "cell_type": "code",
      "metadata": {
        "colab": {
          "base_uri": "https://localhost:8080/"
        },
        "id": "nHKipnV-_jz6",
        "outputId": "c701002f-1f58-4683-e7fb-2bd055823e06"
      },
      "source": [
        "#transferring the device to GPU\n",
        "device=torch.device(\"cuda\" if torch.cuda.is_available() else \"cpu\")\n",
        "print(device)\n",
        "model=model.to(device)"
      ],
      "execution_count": 23,
      "outputs": [
        {
          "output_type": "stream",
          "text": [
            "cuda\n"
          ],
          "name": "stdout"
        }
      ]
    },
    {
      "cell_type": "code",
      "metadata": {
        "id": "9FqkOvdJ_t6J"
      },
      "source": [
        "#getting the important libraries\n",
        "import numpy as np\n",
        "import os\n",
        "import cv2\n",
        "import glob\n",
        "from google.colab.patches import cv2_imshow"
      ],
      "execution_count": 8,
      "outputs": []
    },
    {
      "cell_type": "code",
      "metadata": {
        "colab": {
          "base_uri": "https://localhost:8080/"
        },
        "id": "vJRrXFuY_ufU",
        "outputId": "a6c197ed-499e-4ee9-904b-24c4d2cf66e0"
      },
      "source": [
        "#mounting the drive\n",
        "from google.colab import drive\n",
        "drive.mount('/content/drive')"
      ],
      "execution_count": 9,
      "outputs": [
        {
          "output_type": "stream",
          "text": [
            "Mounted at /content/drive\n"
          ],
          "name": "stdout"
        }
      ]
    },
    {
      "cell_type": "code",
      "metadata": {
        "id": "GqkZomXW_wtN"
      },
      "source": [
        "#please ignore this cell\n",
        "'''#adding border\n",
        "def add_border(img: np.array, size_x: int = 128, size_y: int = 128) -> (np.array, int, int):\n",
        "    \"\"\"Add border to image, so it will divide window sizes: size_x and size_y\"\"\"\n",
        "    max_y, max_x = img.shape[:2]\n",
        "    border_y = 0\n",
        "    if max_y % size_y != 0:\n",
        "        border_y = (size_y - (max_y % size_y) + 1) // 2\n",
        "        img = cv2.copyMakeBorder(img, border_y, border_y, 0, 0, cv2.BORDER_CONSTANT, value=[255, 255, 255])\n",
        "    border_x = 0\n",
        "    if max_x % size_x != 0:\n",
        "        border_x = (size_x - (max_x % size_x) + 1) // 2\n",
        "        img = cv2.copyMakeBorder(img, 0, 0, border_x, border_x, cv2.BORDER_CONSTANT, value=[255, 255, 255])\n",
        "    return img, border_y, border_x\n",
        "\n",
        "\n",
        "    #preprocessing\n",
        "def split_img(img: np.array, size_x: int = 128, size_y: int = 128 )-> [np.array]:\n",
        "    \"\"\"Split image to parts (little images).\n",
        "    Walk through the whole image by the window of size size_x * size_y without overlays and\n",
        "    save all parts in list. Images sizes should divide window sizes.\n",
        "    \"\"\"\n",
        "    max_y, max_x = img.shape[:2]\n",
        "    parts = []\n",
        "    curr_y = 0\n",
        "    # TODO: rewrite with generators.\n",
        "    while (curr_y + size_y) <= max_y:\n",
        "        curr_x = 0\n",
        "        while (curr_x + size_x) <= max_x:\n",
        "            parts.append(img[curr_y:curr_y + size_y, curr_x:curr_x + size_x])\n",
        "            curr_x += size_x\n",
        "        curr_y += size_y\n",
        "    return parts\n",
        "    '''"
      ],
      "execution_count": null,
      "outputs": []
    },
    {
      "cell_type": "code",
      "metadata": {
        "id": "vBVTuI5SYfYU"
      },
      "source": [
        "#adding border\n",
        "def add_border(img: np.array, size_x: int = 128, size_y: int = 128) -> (np.array, int, int):\n",
        "    \"\"\"Add border to image, so it will divide window sizes: size_x and size_y\"\"\"\n",
        "    max_y, max_x = img.shape[:2]\n",
        "    border_y = 0\n",
        "    if max_y % size_y != 0:\n",
        "        a = (size_y - (max_y % size_y) + 1)\n",
        "       # print('a=',a)\n",
        "        l=0\n",
        "        r=0\n",
        "        if a%2!=0:\n",
        "          l=a//2\n",
        "          r=a//2\n",
        "        else:\n",
        "          l=a//2\n",
        "          r=(a//2)-1\n",
        "        #print(l,r)\n",
        "        img = cv2.copyMakeBorder(img, l, r, 0, 0, cv2.BORDER_CONSTANT, value=[255, 255, 255])\n",
        "        \n",
        "    border_x = 0\n",
        "    if max_x % size_x != 0:\n",
        "        a = (size_x - (max_x % size_x) + 1)\n",
        "        l=0\n",
        "        r=0\n",
        "        if a%2!=0:\n",
        "          l=a//2\n",
        "          r=a//2\n",
        "        else:\n",
        "          l=a//2\n",
        "          r=(a//2)-1\n",
        "        #print(l,r)\n",
        "        img = cv2.copyMakeBorder(img, 0, 0, l, r, cv2.BORDER_CONSTANT, value=[255, 255, 255])\n",
        "    return img, border_y, border_x\n",
        "\n",
        "\n",
        "    #preprocessing\n",
        "def split_img(img: np.array, size_x: int = 128, size_y: int = 128 )-> [np.array]:\n",
        "    \"\"\"Split image to parts (little images).\n",
        "    Walk through the whole image by the window of size size_x * size_y without overlays and\n",
        "    save all parts in list. Images sizes should divide window sizes.\n",
        "    \"\"\"\n",
        "    max_y, max_x = img.shape[:2]\n",
        "    parts = []\n",
        "    curr_y = 0\n",
        "    # TODO: rewrite with generators.\n",
        "    while (curr_y + size_y) <= max_y:\n",
        "        curr_x = 0\n",
        "        while (curr_x + size_x) <= max_x:\n",
        "            parts.append(img[curr_y:curr_y + size_y, curr_x:curr_x + size_x])\n",
        "            curr_x += size_x\n",
        "        curr_y += size_y\n",
        "    return parts"
      ],
      "execution_count": 10,
      "outputs": []
    },
    {
      "cell_type": "code",
      "metadata": {
        "colab": {
          "base_uri": "https://localhost:8080/"
        },
        "id": "YkiJdl-K_47b",
        "outputId": "f76c0a9b-b378-4562-e323-2c8f34f3a919"
      },
      "source": [
        "# getting the images from drive for training\n",
        "\n",
        "get_printed=glob.glob('/content/drive/MyDrive/Siddharth-Binarization/dataset_DIBCO/*')\n",
        "print(len(get_printed))\n",
        "\n",
        "images_in=[]\n",
        "images_gt=[]\n",
        "for paths in get_printed:\n",
        "  n=len(glob.glob(paths+\"/*_in.png\"))\n",
        "  for i in range(1,n+1):\n",
        "    if (i<10):\n",
        "      f_name_in=os.path.join(paths,\"0\"+str(i)+\"_in.png\")\n",
        "      f_name_gt=os.path.join(paths,\"0\"+str(i)+\"_gt.png\")\n",
        "    else :\n",
        "      f_name_in=os.path.join(paths,str(i)+\"_in.png\")\n",
        "      f_name_gt=os.path.join(paths,str(i)+\"_gt.png\")\n",
        "\n",
        "    images_in.append(cv2.imread(f_name_in,cv2.IMREAD_GRAYSCALE))\n",
        "    images_gt.append(cv2.imread(f_name_gt,cv2.IMREAD_GRAYSCALE))"
      ],
      "execution_count": 11,
      "outputs": [
        {
          "output_type": "stream",
          "text": [
            "4\n"
          ],
          "name": "stdout"
        }
      ]
    },
    {
      "cell_type": "code",
      "metadata": {
        "colab": {
          "base_uri": "https://localhost:8080/"
        },
        "id": "zJNsdcrWApoz",
        "outputId": "8a0d0aa8-2bff-4339-c009-1fafa8d0600c"
      },
      "source": [
        "size=len(images_in)\n",
        "for i in range(size):\n",
        "  a=transform(images_in[i])\n",
        "  images_in.append(a)\n",
        "  images_gt.append(images_gt[i])\n",
        "print(len(images_in))"
      ],
      "execution_count": 12,
      "outputs": [
        {
          "output_type": "stream",
          "text": [
            "62\n"
          ],
          "name": "stdout"
        }
      ]
    },
    {
      "cell_type": "code",
      "metadata": {
        "colab": {
          "base_uri": "https://localhost:8080/"
        },
        "id": "99pZS6hS_7kL",
        "outputId": "a2b7fec7-f63b-46f1-9de0-34ddc5ae58b8"
      },
      "source": [
        "#splitting the images into 128X128 images for training\n",
        "images_in=np.array(images_in)\n",
        "images_gt=np.array(images_gt)\n",
        "print(images_gt.shape)\n",
        "\n",
        "in_set=[]\n",
        "gt_set=[]\n",
        "n=images_in.shape[0]\n",
        "for i in range(n):\n",
        "  img_in,_,_=add_border(images_in[i])\n",
        "  img_gt,_,_=add_border(images_gt[i])\n",
        "  parts1=split_img(img_in)\n",
        "  parts2=split_img(img_gt)\n",
        "  for img in parts1:\n",
        "    in_set.append(img)\n",
        "  for img in parts2:\n",
        "    gt_set.append(img)"
      ],
      "execution_count": 13,
      "outputs": [
        {
          "output_type": "stream",
          "text": [
            "(62,)\n"
          ],
          "name": "stdout"
        },
        {
          "output_type": "stream",
          "text": [
            "/usr/local/lib/python3.7/dist-packages/ipykernel_launcher.py:2: VisibleDeprecationWarning: Creating an ndarray from ragged nested sequences (which is a list-or-tuple of lists-or-tuples-or ndarrays with different lengths or shapes) is deprecated. If you meant to do this, you must specify 'dtype=object' when creating the ndarray\n",
            "  \n",
            "/usr/local/lib/python3.7/dist-packages/ipykernel_launcher.py:3: VisibleDeprecationWarning: Creating an ndarray from ragged nested sequences (which is a list-or-tuple of lists-or-tuples-or ndarrays with different lengths or shapes) is deprecated. If you meant to do this, you must specify 'dtype=object' when creating the ndarray\n",
            "  This is separate from the ipykernel package so we can avoid doing imports until\n"
          ],
          "name": "stderr"
        }
      ]
    },
    {
      "cell_type": "code",
      "metadata": {
        "colab": {
          "base_uri": "https://localhost:8080/"
        },
        "id": "HIT0jwKdHHDX",
        "outputId": "1d997005-89f2-485d-a962-59787cdebc59"
      },
      "source": [
        "cd drive/My Drive"
      ],
      "execution_count": null,
      "outputs": [
        {
          "output_type": "stream",
          "text": [
            "/content/drive/My Drive\n"
          ],
          "name": "stdout"
        }
      ]
    },
    {
      "cell_type": "code",
      "metadata": {
        "id": "4ediqkaHADGI"
      },
      "source": [
        ""
      ],
      "execution_count": null,
      "outputs": []
    },
    {
      "cell_type": "code",
      "metadata": {
        "colab": {
          "base_uri": "https://localhost:8080/"
        },
        "id": "DYGGS76fATFH",
        "outputId": "5212c4e8-fba7-4d12-d526-824281099020"
      },
      "source": [
        "# resizing the tensor to pytorch format for training in pytorch\n",
        "in_set=np.array(in_set)\n",
        "gt_set=np.array(gt_set)\n",
        "print(gt_set.shape)\n",
        "\n",
        "num_samples=in_set.shape[0]\n",
        "in_set.resize((num_samples,1,128,128))\n",
        "#gt_set.resize((num_samples,1,128,128))\n",
        "print(in_set.shape)"
      ],
      "execution_count": 14,
      "outputs": [
        {
          "output_type": "stream",
          "text": [
            "(4242, 128, 128)\n",
            "(4242, 1, 128, 128)\n"
          ],
          "name": "stdout"
        }
      ]
    },
    {
      "cell_type": "code",
      "metadata": {
        "id": "ZrFNnpMvAWhX"
      },
      "source": [
        "#function to invert the images\n",
        "def invert(gt_set):\n",
        "  for i,im in enumerate(gt_set):\n",
        "    #print(i)\n",
        "    gt_set[i]=255-gt_set[i]\n",
        "  return gt_set"
      ],
      "execution_count": 15,
      "outputs": []
    },
    {
      "cell_type": "code",
      "metadata": {
        "colab": {
          "base_uri": "https://localhost:8080/",
          "height": 145
        },
        "id": "WvK2tWT-AZBY",
        "outputId": "03b9b98f-aae6-44b6-e2a6-45e41eeb0ac7"
      },
      "source": [
        "#inverting the ground truth images\n",
        "gt_set=invert(gt_set)\n",
        "cv2_imshow(gt_set[0])"
      ],
      "execution_count": 16,
      "outputs": [
        {
          "output_type": "display_data",
          "data": {
            "image/png": "[encoded data removed]",
            "text/plain": [
              "<PIL.Image.Image image mode=L size=128x128 at 0x7F62187DEB50>"
            ]
          },
          "metadata": {}
        }
      ]
    },
    {
      "cell_type": "code",
      "metadata": {
        "id": "btcRncpZAbC-"
      },
      "source": [
        "#normalizing the pixel values\n",
        "in_set=in_set/255\n",
        "gt_set=gt_set/255"
      ],
      "execution_count": 17,
      "outputs": []
    },
    {
      "cell_type": "code",
      "metadata": {
        "id": "Xy8rS0R7AqZS"
      },
      "source": [
        "#getting the test set\n",
        "in_test=in_set[4142:4242]\n",
        "gt_test=gt_set[4142:4242]\n",
        "in_set=in_set[0:4142]\n",
        "gt_set=gt_set[0:4142]"
      ],
      "execution_count": 18,
      "outputs": []
    },
    {
      "cell_type": "code",
      "metadata": {
        "id": "iWIkILLDEa3o"
      },
      "source": [
        "#transferring all the tensors to the gpu\n",
        "in_test=torch.tensor(in_test,device=device,dtype=torch.float32)\n",
        "gt_test=torch.tensor(gt_test,device=device,dtype=torch.long)\n",
        "in_set=torch.tensor(in_set,device=device,dtype=torch.float32)\n",
        "gt_set=torch.tensor(gt_set,device=device,dtype=torch.long)"
      ],
      "execution_count": 24,
      "outputs": []
    },
    {
      "cell_type": "code",
      "metadata": {
        "id": "4abRRLfgDBHV"
      },
      "source": [
        "#preparation for training\n",
        "lr=0.005 #learning rate\n",
        "batch_size=32\n",
        "\n",
        "loss_func=nn.CrossEntropyLoss()\n",
        "opti=optim.Adam(model.parameters(),lr=lr)"
      ],
      "execution_count": 20,
      "outputs": []
    },
    {
      "cell_type": "code",
      "metadata": {
        "colab": {
          "base_uri": "https://localhost:8080/"
        },
        "id": "YiVdC__1DDSl",
        "outputId": "4f651769-7f91-4d17-9a0e-4423a0a39aa6"
      },
      "source": [
        ""
      ],
      "execution_count": null,
      "outputs": [
        {
          "output_type": "stream",
          "text": [
            "torch.Size([32, 1, 128, 128])\n"
          ],
          "name": "stdout"
        }
      ]
    },
    {
      "cell_type": "code",
      "metadata": {
        "id": "kLKtuMe_DFs-"
      },
      "source": [
        ""
      ],
      "execution_count": null,
      "outputs": []
    },
    {
      "cell_type": "code",
      "metadata": {
        "id": "P_k7-JpK30Wi",
        "colab": {
          "base_uri": "https://localhost:8080/"
        },
        "outputId": "26244176-6ecc-417b-8fae-1dd1c7d3a2c3"
      },
      "source": [
        "#training the model for num_epochs\n",
        "num_epochs=10\n",
        "for epoch in range(num_epochs):\n",
        "  #perm=torch.randperm(in_set.size()[0])\n",
        "  #perm=perm-1\n",
        "  n=in_set.size()[0]\n",
        "  print(epoch)\n",
        "  for i in range(0,n,batch_size):\n",
        "    opti.zero_grad()\n",
        "    #indices=perm[i:i+batch_size]\n",
        "    \n",
        "    X=in_set[i:i+batch_size]\n",
        "   \n",
        "    scores=model.forward(X)\n",
        "    loss=loss_func(scores,gt_set[i:i+batch_size])\n",
        "\n",
        "    loss.backward()\n",
        "    opti.step()\n",
        "\n",
        "    if i%1024 is 0:\n",
        "      print(loss.item())"
      ],
      "execution_count": null,
      "outputs": [
        {
          "output_type": "stream",
          "text": [
            "0\n",
            "0.3729095458984375\n",
            "0.3510158360004425\n",
            "0.3784761130809784\n",
            "0.4287142753601074\n",
            "0.45006120204925537\n",
            "1\n",
            "0.4334586560726166\n",
            "0.3476353585720062\n",
            "0.3706762194633484\n",
            "0.4222213625907898\n",
            "0.4353606402873993\n",
            "2\n",
            "0.40946850180625916\n",
            "0.34251296520233154\n",
            "0.3607695996761322\n",
            "0.4103763997554779\n",
            "0.41698190569877625\n",
            "3\n",
            "0.39938995242118835\n",
            "0.3387882113456726\n",
            "0.35122430324554443\n",
            "0.40702199935913086\n",
            "0.40725311636924744\n",
            "4\n",
            "0.3816050589084625\n",
            "0.33448824286460876\n",
            "0.35472288727760315\n",
            "0.4146418273448944\n",
            "0.40042322874069214\n",
            "5\n",
            "0.38085880875587463\n",
            "0.34413260221481323\n"
          ],
          "name": "stdout"
        }
      ]
    },
    {
      "cell_type": "code",
      "metadata": {
        "id": "bc6DVn_1ENDz"
      },
      "source": [
        "# torch.save(model.state_dict(),'/content/drive/My Drive/Siddharth-Binarization/model_deconv_20eps_AG.pt')\n"
      ],
      "execution_count": null,
      "outputs": []
    },
    {
      "cell_type": "code",
      "metadata": {
        "id": "jbVzKQsV4no7"
      },
      "source": [
        "#checking accuracy\n",
        "x=model.forward(in_test[0:32])\n",
        "a,b=torch.max(x.data,dim=1,keepdims=True)\n",
        "sz=b.shape[0]\n",
        "num=0\n",
        "for i in range(sz):\n",
        "  num=num+b[i][0].eq(gt_test[i]).sum().item()\n",
        "denom+=sz*128*128\n",
        "print(num/denom)"
      ],
      "execution_count": null,
      "outputs": []
    },
    {
      "cell_type": "code",
      "metadata": {
        "colab": {
          "base_uri": "https://localhost:8080/"
        },
        "id": "scpMS5wc51jT",
        "outputId": "dd8fba5c-4cef-4bb8-ef1a-d2cef5867f5a"
      },
      "source": [
        "print(num/denom)"
      ],
      "execution_count": null,
      "outputs": [
        {
          "output_type": "stream",
          "text": [
            "0.03078369140625\n"
          ],
          "name": "stdout"
        }
      ]
    },
    {
      "cell_type": "code",
      "metadata": {
        "id": "ivTm2jF04Ank"
      },
      "source": [
        "#loading the wrights\n",
        "m1=torch.load('/content/drive/My Drive/Siddharth-Binarization/model_deconv_5eps.pt')"
      ],
      "execution_count": 51,
      "outputs": []
    },
    {
      "cell_type": "code",
      "metadata": {
        "id": "qxjLztG84Fie"
      },
      "source": [
        "# m2=unet()\n",
        "model.load_state_dict(m1)\n",
        "model.to(device)"
      ],
      "execution_count": null,
      "outputs": []
    },
    {
      "cell_type": "code",
      "metadata": {
        "id": "T7Fp6XSY4BBb"
      },
      "source": [
        "get_hr=glob.glob('/content/drive/My Drive/Siddharth-Binarization/hand_written/*')"
      ],
      "execution_count": 27,
      "outputs": []
    },
    {
      "cell_type": "code",
      "metadata": {
        "id": "EBYN57le7X-o"
      },
      "source": [
        "#getting the handwritten image\n",
        "in_wr=cv2.imread(get_hr[0],cv2.IMREAD_GRAYSCALE)\n",
        "gt_wr=cv2.imread(get_hr[1],cv2.IMREAD_GRAYSCALE)"
      ],
      "execution_count": 28,
      "outputs": []
    },
    {
      "cell_type": "code",
      "metadata": {
        "id": "wVyvFaJF74np"
      },
      "source": [
        "in_wr=np.array(in_wr)\n",
        "gt_wr=np.array(gt_wr)"
      ],
      "execution_count": 29,
      "outputs": []
    },
    {
      "cell_type": "code",
      "metadata": {
        "id": "iC6k5r1DCeVg"
      },
      "source": [
        "in_wr,_,_=add_border(in_wr)\n",
        "gt_wr,_,_=add_border(gt_wr)"
      ],
      "execution_count": 30,
      "outputs": []
    },
    {
      "cell_type": "code",
      "metadata": {
        "id": "LYYWJjiPDFoC"
      },
      "source": [
        "iwr_set=split_img(in_wr)\n",
        "iwr_set=np.array(iwr_set)\n",
        "gwt_set=split_img(gt_wr)\n",
        "gwt_set=np.array(gwt_set)"
      ],
      "execution_count": 31,
      "outputs": []
    },
    {
      "cell_type": "code",
      "metadata": {
        "colab": {
          "base_uri": "https://localhost:8080/"
        },
        "id": "9iruDzVTFMcf",
        "outputId": "e666a1ab-ada5-47c7-8362-0ecbfa964ba4"
      },
      "source": [
        "print(gt_wr.shape)"
      ],
      "execution_count": 32,
      "outputs": [
        {
          "output_type": "stream",
          "text": [
            "(512, 640)\n"
          ],
          "name": "stdout"
        }
      ]
    },
    {
      "cell_type": "code",
      "metadata": {
        "id": "ZPK2jVt77-Mf"
      },
      "source": [
        "iwr_set=np.resize(iwr_set,(iwr_set.shape[0],1,iwr_set.shape[1],iwr_set.shape[2]))"
      ],
      "execution_count": 33,
      "outputs": []
    },
    {
      "cell_type": "code",
      "metadata": {
        "id": "qfBBMZdy8N0H"
      },
      "source": [
        "iwr_set=torch.tensor(iwr_set,device=device,dtype=torch.float32)"
      ],
      "execution_count": 34,
      "outputs": []
    },
    {
      "cell_type": "code",
      "metadata": {
        "id": "WdWcjWl68gUu"
      },
      "source": [
        "#gt_wr=np.resize(gt_wr,(1,in_wr.shape[0],in_wr.shape[1]))"
      ],
      "execution_count": 35,
      "outputs": []
    },
    {
      "cell_type": "code",
      "metadata": {
        "id": "jYGDwmK_86pp"
      },
      "source": [
        "gt_wr=torch.tensor(gt_wr,device=device,dtype=torch.long)"
      ],
      "execution_count": 36,
      "outputs": []
    },
    {
      "cell_type": "code",
      "metadata": {
        "id": "Xifu4tXg9E2e"
      },
      "source": [
        "iwr_set/=255\n",
        "x=model.forward(iwr_set)\n",
        "a,b=torch.max(x.data,dim=1,keepdims=True)\n",
        "for ind in range(20):\n",
        "  cv2_imshow(np.array((b[ind][0].cpu())*255))"
      ],
      "execution_count": null,
      "outputs": []
    },
    {
      "cell_type": "code",
      "metadata": {
        "id": "1AP9BSbsMLW3"
      },
      "source": [
        "a=torch.tensor([1,2,3])\n",
        "a.append([4,5,6])"
      ],
      "execution_count": null,
      "outputs": []
    },
    {
      "cell_type": "code",
      "metadata": {
        "id": "twrA51KyE01A"
      },
      "source": [
        "#function to generate a binarized image, given the gray scale image\n",
        "def predict(mode,image,device):\n",
        "  #print(image.shape)\n",
        "  image,_,_=add_border(image)\n",
        "  image=image/255\n",
        " # print(image.shape)\n",
        "  H=image.shape[0]\n",
        "  W=image.shape[1]\n",
        "  \n",
        "  img_set=split_img(image)\n",
        "  img_set=np.array(img_set)\n",
        "  # print(img_set.shape)\n",
        "  img_set=np.resize(img_set,(img_set.shape[0],1,img_set.shape[1],img_set.shape[2]))\n",
        "  img_set=torch.tensor(img_set,device=device,dtype=torch.float32)\n",
        "  \n",
        "  predict=model.forward(img_set)\n",
        "  predict.to('cpu')\n",
        "  \n",
        "  r=predict.shape[0]\n",
        "  _,b=torch.max(predict.data,dim=1,keepdims=True)\n",
        "  #print(b.shape)\n",
        "  b=b.cpu()\n",
        "  predictions=[]\n",
        "  for i in range(r):\n",
        "    #print(i)\n",
        "    predictions.append(b[i][0]*255)\n",
        "  #print(H,W)\n",
        "  i=0\n",
        "  j=0\n",
        "  k=0\n",
        "  ret=np.zeros((H,W))\n",
        "  #print(ret.shape)\n",
        "  while i<H :\n",
        "    j=0\n",
        "    while j<W:\n",
        "      #print(ret[i:i+128,j:j+128].shape)\n",
        "      ret[i:i+128,j:j+128]=predictions[k]\n",
        "      #print(k)\n",
        "      k=k+1\n",
        "      j+=128\n",
        "    i+=128\n",
        "  return ret"
      ],
      "execution_count": 41,
      "outputs": []
    },
    {
      "cell_type": "code",
      "metadata": {
        "colab": {
          "base_uri": "https://localhost:8080/",
          "height": 1000
        },
        "id": "xEWMIcd5QTqv",
        "outputId": "fe4d9ddd-0447-4d90-f063-0ee41b480d71"
      },
      "source": [
        "#displaying a test image\n",
        "#please run this cell after loading the model weights and loading the images, you can change the value of ind variable to change images\n",
        "ind=6\n",
        "disp=255-predict(model,images_in[ind],device)\n",
        "cv2_imshow(disp)\n",
        "cv2_imshow(images_gt[ind])"
      ],
      "execution_count": 53,
      "outputs": [
        {
          "output_type": "display_data",
          "data": {
            "image/png": "[encoded data removed]",
            "text/plain": [
              "<PIL.Image.Image image mode=L size=640x640 at 0x7F6217E76B50>"
            ]
          },
          "metadata": {}
        },
        {
          "output_type": "display_data",
          "data": {
            "image/png": "[encoded data removed]",
            "text/plain": [
              "<PIL.Image.Image image mode=L size=600x564 at 0x7F6217E76790>"
            ]
          },
          "metadata": {}
        }
      ]
    },
    {
      "cell_type": "code",
      "metadata": {
        "id": "0GeEZFKUPjS1"
      },
      "source": [
        "gim,_,_=add_border(gt_wr)\n",
        "gim=invert(gim)"
      ],
      "execution_count": null,
      "outputs": []
    },
    {
      "cell_type": "code",
      "metadata": {
        "id": "LnKfibVbfqyO"
      },
      "source": [
        "r=predict(model,in_wr,device)\n",
        "cv2_imshow(255-r)\n",
        "cv2_imshow(gim)"
      ],
      "execution_count": null,
      "outputs": []
    },
    {
      "cell_type": "code",
      "metadata": {
        "id": "TyO1IO0qgZkg"
      },
      "source": [
        "def accuracy(img1,img2):\n",
        "  img1=torch.tensor(img1)\n",
        "  img2=torch.tensor(img2)\n",
        "  num=img1.eq(img2).sum().item()\n",
        "  denom=img1.shape[0]*img1.shape[1]\n",
        "  ans=num/denom\n",
        "  return ans"
      ],
      "execution_count": 55,
      "outputs": []
    },
    {
      "cell_type": "code",
      "metadata": {
        "id": "Rm6PMm2-PiY-"
      },
      "source": [
        "ind=33\n",
        "disp=255-predict(model,images_in[ind],device)\n",
        "tar,_,_=add_border(images_gt[ind%31])\n",
        "print(accuracy(disp,tar))"
      ],
      "execution_count": null,
      "outputs": []
    },
    {
      "cell_type": "code",
      "metadata": {
        "id": "XRfpKy4aPzmr"
      },
      "source": [
        ""
      ],
      "execution_count": null,
      "outputs": []
    },
    {
      "cell_type": "code",
      "metadata": {
        "id": "vhtqPQK1__eZ"
      },
      "source": [
        ""
      ],
      "execution_count": null,
      "outputs": []
    },
    {
      "cell_type": "code",
      "metadata": {
        "id": "qNoBWgfQB8jZ"
      },
      "source": [
        ""
      ],
      "execution_count": null,
      "outputs": []
    }
  ]
}